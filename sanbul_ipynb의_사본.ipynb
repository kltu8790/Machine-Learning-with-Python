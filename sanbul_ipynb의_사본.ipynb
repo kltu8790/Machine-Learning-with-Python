{
  "nbformat": 4,
  "nbformat_minor": 0,
  "metadata": {
    "colab": {
      "name": "sanbul.ipynb의 사본",
      "provenance": [],
      "collapsed_sections": [],
      "mount_file_id": "1S8Exw5zS7DU0XpXcP7Lr7u-bTxC6pePP",
      "authorship_tag": "ABX9TyPAkvY6AUtwzYIJohbgVVH8",
      "include_colab_link": true
    },
    "kernelspec": {
      "name": "python3",
      "display_name": "Python 3"
    },
    "language_info": {
      "name": "python"
    },
    "accelerator": "GPU"
  },
  "cells": [
    {
      "cell_type": "markdown",
      "metadata": {
        "id": "view-in-github",
        "colab_type": "text"
      },
      "source": [
        "<a href=\"https://colab.research.google.com/github/kltu8790/Machine-Learning-with-Python/blob/master/sanbul_ipynb%EC%9D%98_%EC%82%AC%EB%B3%B8.ipynb\" target=\"_parent\"><img src=\"https://colab.research.google.com/assets/colab-badge.svg\" alt=\"Open In Colab\"/></a>"
      ]
    },
    {
      "cell_type": "code",
      "source": [
        "import numpy as np\n",
        "import pandas as pd\n",
        "import matplotlib.pyplot as plt"
      ],
      "metadata": {
        "id": "qxHsjkApJr-W"
      },
      "execution_count": 1,
      "outputs": []
    },
    {
      "cell_type": "markdown",
      "source": [
        "# 1-1.Data 불러오기"
      ],
      "metadata": {
        "id": "o9eugExlLLKd"
      }
    },
    {
      "cell_type": "code",
      "source": [
        "fires = pd.read_csv(\"/content/Termproject/datasets/sanbul/sanbul.csv\")"
      ],
      "metadata": {
        "id": "XgSB3nthKsfm"
      },
      "execution_count": 2,
      "outputs": []
    },
    {
      "cell_type": "markdown",
      "source": [
        "# 1-2.fires.head(),fires.info(),fires.describe(), 카테고리형 특성 month, day에 대해 value_counts()출력하기"
      ],
      "metadata": {
        "id": "rJ0XZzmDLZT9"
      }
    },
    {
      "cell_type": "code",
      "source": [
        "fires.head()"
      ],
      "metadata": {
        "id": "cUG0InF4K2jd",
        "colab": {
          "base_uri": "https://localhost:8080/",
          "height": 206
        },
        "outputId": "bd32dc18-62c1-442f-8372-4ed65dc4a84a"
      },
      "execution_count": 3,
      "outputs": [
        {
          "output_type": "execute_result",
          "data": {
            "text/plain": [
              "    latitude   longitude   month     day  avg_temp  max_temp  max_wind_speed  \\\n",
              "0  37.814760  126.934555  12-Dec  04-thu     -11.2      -7.5             8.4   \n",
              "1  37.902374  127.531013  11-Nov  02-tue       2.6      11.2             5.9   \n",
              "2  37.815010  127.303115  03-Mar  05-fri      13.2      21.5             5.7   \n",
              "3  37.645414  127.504775  02-Feb  06-sat      -4.0       1.1            10.4   \n",
              "4  37.811693  127.514488  06-Jun  00-sun      23.0      32.1             6.7   \n",
              "\n",
              "   avg_wind  burned_area  \n",
              "0       2.3         0.03  \n",
              "1       0.8         0.10  \n",
              "2       1.3         0.50  \n",
              "3       2.5         0.30  \n",
              "4       1.7         0.08  "
            ],
            "text/html": [
              "\n",
              "  <div id=\"df-e24d1cfa-e310-4146-bf6b-a37bcbe5395f\">\n",
              "    <div class=\"colab-df-container\">\n",
              "      <div>\n",
              "<style scoped>\n",
              "    .dataframe tbody tr th:only-of-type {\n",
              "        vertical-align: middle;\n",
              "    }\n",
              "\n",
              "    .dataframe tbody tr th {\n",
              "        vertical-align: top;\n",
              "    }\n",
              "\n",
              "    .dataframe thead th {\n",
              "        text-align: right;\n",
              "    }\n",
              "</style>\n",
              "<table border=\"1\" class=\"dataframe\">\n",
              "  <thead>\n",
              "    <tr style=\"text-align: right;\">\n",
              "      <th></th>\n",
              "      <th>latitude</th>\n",
              "      <th>longitude</th>\n",
              "      <th>month</th>\n",
              "      <th>day</th>\n",
              "      <th>avg_temp</th>\n",
              "      <th>max_temp</th>\n",
              "      <th>max_wind_speed</th>\n",
              "      <th>avg_wind</th>\n",
              "      <th>burned_area</th>\n",
              "    </tr>\n",
              "  </thead>\n",
              "  <tbody>\n",
              "    <tr>\n",
              "      <th>0</th>\n",
              "      <td>37.814760</td>\n",
              "      <td>126.934555</td>\n",
              "      <td>12-Dec</td>\n",
              "      <td>04-thu</td>\n",
              "      <td>-11.2</td>\n",
              "      <td>-7.5</td>\n",
              "      <td>8.4</td>\n",
              "      <td>2.3</td>\n",
              "      <td>0.03</td>\n",
              "    </tr>\n",
              "    <tr>\n",
              "      <th>1</th>\n",
              "      <td>37.902374</td>\n",
              "      <td>127.531013</td>\n",
              "      <td>11-Nov</td>\n",
              "      <td>02-tue</td>\n",
              "      <td>2.6</td>\n",
              "      <td>11.2</td>\n",
              "      <td>5.9</td>\n",
              "      <td>0.8</td>\n",
              "      <td>0.10</td>\n",
              "    </tr>\n",
              "    <tr>\n",
              "      <th>2</th>\n",
              "      <td>37.815010</td>\n",
              "      <td>127.303115</td>\n",
              "      <td>03-Mar</td>\n",
              "      <td>05-fri</td>\n",
              "      <td>13.2</td>\n",
              "      <td>21.5</td>\n",
              "      <td>5.7</td>\n",
              "      <td>1.3</td>\n",
              "      <td>0.50</td>\n",
              "    </tr>\n",
              "    <tr>\n",
              "      <th>3</th>\n",
              "      <td>37.645414</td>\n",
              "      <td>127.504775</td>\n",
              "      <td>02-Feb</td>\n",
              "      <td>06-sat</td>\n",
              "      <td>-4.0</td>\n",
              "      <td>1.1</td>\n",
              "      <td>10.4</td>\n",
              "      <td>2.5</td>\n",
              "      <td>0.30</td>\n",
              "    </tr>\n",
              "    <tr>\n",
              "      <th>4</th>\n",
              "      <td>37.811693</td>\n",
              "      <td>127.514488</td>\n",
              "      <td>06-Jun</td>\n",
              "      <td>00-sun</td>\n",
              "      <td>23.0</td>\n",
              "      <td>32.1</td>\n",
              "      <td>6.7</td>\n",
              "      <td>1.7</td>\n",
              "      <td>0.08</td>\n",
              "    </tr>\n",
              "  </tbody>\n",
              "</table>\n",
              "</div>\n",
              "      <button class=\"colab-df-convert\" onclick=\"convertToInteractive('df-e24d1cfa-e310-4146-bf6b-a37bcbe5395f')\"\n",
              "              title=\"Convert this dataframe to an interactive table.\"\n",
              "              style=\"display:none;\">\n",
              "        \n",
              "  <svg xmlns=\"http://www.w3.org/2000/svg\" height=\"24px\"viewBox=\"0 0 24 24\"\n",
              "       width=\"24px\">\n",
              "    <path d=\"M0 0h24v24H0V0z\" fill=\"none\"/>\n",
              "    <path d=\"M18.56 5.44l.94 2.06.94-2.06 2.06-.94-2.06-.94-.94-2.06-.94 2.06-2.06.94zm-11 1L8.5 8.5l.94-2.06 2.06-.94-2.06-.94L8.5 2.5l-.94 2.06-2.06.94zm10 10l.94 2.06.94-2.06 2.06-.94-2.06-.94-.94-2.06-.94 2.06-2.06.94z\"/><path d=\"M17.41 7.96l-1.37-1.37c-.4-.4-.92-.59-1.43-.59-.52 0-1.04.2-1.43.59L10.3 9.45l-7.72 7.72c-.78.78-.78 2.05 0 2.83L4 21.41c.39.39.9.59 1.41.59.51 0 1.02-.2 1.41-.59l7.78-7.78 2.81-2.81c.8-.78.8-2.07 0-2.86zM5.41 20L4 18.59l7.72-7.72 1.47 1.35L5.41 20z\"/>\n",
              "  </svg>\n",
              "      </button>\n",
              "      \n",
              "  <style>\n",
              "    .colab-df-container {\n",
              "      display:flex;\n",
              "      flex-wrap:wrap;\n",
              "      gap: 12px;\n",
              "    }\n",
              "\n",
              "    .colab-df-convert {\n",
              "      background-color: #E8F0FE;\n",
              "      border: none;\n",
              "      border-radius: 50%;\n",
              "      cursor: pointer;\n",
              "      display: none;\n",
              "      fill: #1967D2;\n",
              "      height: 32px;\n",
              "      padding: 0 0 0 0;\n",
              "      width: 32px;\n",
              "    }\n",
              "\n",
              "    .colab-df-convert:hover {\n",
              "      background-color: #E2EBFA;\n",
              "      box-shadow: 0px 1px 2px rgba(60, 64, 67, 0.3), 0px 1px 3px 1px rgba(60, 64, 67, 0.15);\n",
              "      fill: #174EA6;\n",
              "    }\n",
              "\n",
              "    [theme=dark] .colab-df-convert {\n",
              "      background-color: #3B4455;\n",
              "      fill: #D2E3FC;\n",
              "    }\n",
              "\n",
              "    [theme=dark] .colab-df-convert:hover {\n",
              "      background-color: #434B5C;\n",
              "      box-shadow: 0px 1px 3px 1px rgba(0, 0, 0, 0.15);\n",
              "      filter: drop-shadow(0px 1px 2px rgba(0, 0, 0, 0.3));\n",
              "      fill: #FFFFFF;\n",
              "    }\n",
              "  </style>\n",
              "\n",
              "      <script>\n",
              "        const buttonEl =\n",
              "          document.querySelector('#df-e24d1cfa-e310-4146-bf6b-a37bcbe5395f button.colab-df-convert');\n",
              "        buttonEl.style.display =\n",
              "          google.colab.kernel.accessAllowed ? 'block' : 'none';\n",
              "\n",
              "        async function convertToInteractive(key) {\n",
              "          const element = document.querySelector('#df-e24d1cfa-e310-4146-bf6b-a37bcbe5395f');\n",
              "          const dataTable =\n",
              "            await google.colab.kernel.invokeFunction('convertToInteractive',\n",
              "                                                     [key], {});\n",
              "          if (!dataTable) return;\n",
              "\n",
              "          const docLinkHtml = 'Like what you see? Visit the ' +\n",
              "            '<a target=\"_blank\" href=https://colab.research.google.com/notebooks/data_table.ipynb>data table notebook</a>'\n",
              "            + ' to learn more about interactive tables.';\n",
              "          element.innerHTML = '';\n",
              "          dataTable['output_type'] = 'display_data';\n",
              "          await google.colab.output.renderOutput(dataTable, element);\n",
              "          const docLink = document.createElement('div');\n",
              "          docLink.innerHTML = docLinkHtml;\n",
              "          element.appendChild(docLink);\n",
              "        }\n",
              "      </script>\n",
              "    </div>\n",
              "  </div>\n",
              "  "
            ]
          },
          "metadata": {},
          "execution_count": 3
        }
      ]
    },
    {
      "cell_type": "code",
      "source": [
        "fires.info()"
      ],
      "metadata": {
        "id": "FY-N8bY6LDxJ",
        "colab": {
          "base_uri": "https://localhost:8080/"
        },
        "outputId": "cb3bf311-9fc2-4e00-b4a0-5126120f576a"
      },
      "execution_count": 4,
      "outputs": [
        {
          "output_type": "stream",
          "name": "stdout",
          "text": [
            "<class 'pandas.core.frame.DataFrame'>\n",
            "RangeIndex: 456 entries, 0 to 455\n",
            "Data columns (total 9 columns):\n",
            " #   Column          Non-Null Count  Dtype  \n",
            "---  ------          --------------  -----  \n",
            " 0   latitude        456 non-null    float64\n",
            " 1   longitude       456 non-null    float64\n",
            " 2   month           456 non-null    object \n",
            " 3   day             456 non-null    object \n",
            " 4   avg_temp        456 non-null    float64\n",
            " 5   max_temp        456 non-null    float64\n",
            " 6   max_wind_speed  456 non-null    float64\n",
            " 7   avg_wind        456 non-null    float64\n",
            " 8   burned_area     456 non-null    float64\n",
            "dtypes: float64(7), object(2)\n",
            "memory usage: 32.2+ KB\n"
          ]
        }
      ]
    },
    {
      "cell_type": "code",
      "source": [
        "fires.describe()"
      ],
      "metadata": {
        "id": "VGSrigoALFUi",
        "colab": {
          "base_uri": "https://localhost:8080/",
          "height": 300
        },
        "outputId": "c4cd505b-28da-4051-f0d9-5b3f825c79fb"
      },
      "execution_count": 5,
      "outputs": [
        {
          "output_type": "execute_result",
          "data": {
            "text/plain": [
              "         latitude   longitude    avg_temp    max_temp  max_wind_speed  \\\n",
              "count  456.000000  456.000000  456.000000  456.000000      456.000000   \n",
              "mean    37.554922  127.152073    9.810088   17.717763        7.692982   \n",
              "std      0.289899    0.267260    8.278386    8.878393        2.073081   \n",
              "min     36.878411  126.447779  -15.400000  -10.600000        3.600000   \n",
              "25%     37.339854  126.934403    5.075000   12.475000        6.100000   \n",
              "50%     37.561472  127.176612    9.500000   17.800000        7.400000   \n",
              "75%     37.786237  127.343083   14.800000   23.925000        8.800000   \n",
              "max     38.178624  127.743580   30.200000   36.800000       16.600000   \n",
              "\n",
              "         avg_wind  burned_area  \n",
              "count  456.000000   456.000000  \n",
              "mean     1.601316     0.282675  \n",
              "std      0.581168     0.596268  \n",
              "min      0.500000     0.010000  \n",
              "25%      1.200000     0.020000  \n",
              "50%      1.500000     0.100000  \n",
              "75%      1.900000     0.300000  \n",
              "max      3.900000     7.000000  "
            ],
            "text/html": [
              "\n",
              "  <div id=\"df-ca70c3db-00d5-4937-b041-9b48ddce6b20\">\n",
              "    <div class=\"colab-df-container\">\n",
              "      <div>\n",
              "<style scoped>\n",
              "    .dataframe tbody tr th:only-of-type {\n",
              "        vertical-align: middle;\n",
              "    }\n",
              "\n",
              "    .dataframe tbody tr th {\n",
              "        vertical-align: top;\n",
              "    }\n",
              "\n",
              "    .dataframe thead th {\n",
              "        text-align: right;\n",
              "    }\n",
              "</style>\n",
              "<table border=\"1\" class=\"dataframe\">\n",
              "  <thead>\n",
              "    <tr style=\"text-align: right;\">\n",
              "      <th></th>\n",
              "      <th>latitude</th>\n",
              "      <th>longitude</th>\n",
              "      <th>avg_temp</th>\n",
              "      <th>max_temp</th>\n",
              "      <th>max_wind_speed</th>\n",
              "      <th>avg_wind</th>\n",
              "      <th>burned_area</th>\n",
              "    </tr>\n",
              "  </thead>\n",
              "  <tbody>\n",
              "    <tr>\n",
              "      <th>count</th>\n",
              "      <td>456.000000</td>\n",
              "      <td>456.000000</td>\n",
              "      <td>456.000000</td>\n",
              "      <td>456.000000</td>\n",
              "      <td>456.000000</td>\n",
              "      <td>456.000000</td>\n",
              "      <td>456.000000</td>\n",
              "    </tr>\n",
              "    <tr>\n",
              "      <th>mean</th>\n",
              "      <td>37.554922</td>\n",
              "      <td>127.152073</td>\n",
              "      <td>9.810088</td>\n",
              "      <td>17.717763</td>\n",
              "      <td>7.692982</td>\n",
              "      <td>1.601316</td>\n",
              "      <td>0.282675</td>\n",
              "    </tr>\n",
              "    <tr>\n",
              "      <th>std</th>\n",
              "      <td>0.289899</td>\n",
              "      <td>0.267260</td>\n",
              "      <td>8.278386</td>\n",
              "      <td>8.878393</td>\n",
              "      <td>2.073081</td>\n",
              "      <td>0.581168</td>\n",
              "      <td>0.596268</td>\n",
              "    </tr>\n",
              "    <tr>\n",
              "      <th>min</th>\n",
              "      <td>36.878411</td>\n",
              "      <td>126.447779</td>\n",
              "      <td>-15.400000</td>\n",
              "      <td>-10.600000</td>\n",
              "      <td>3.600000</td>\n",
              "      <td>0.500000</td>\n",
              "      <td>0.010000</td>\n",
              "    </tr>\n",
              "    <tr>\n",
              "      <th>25%</th>\n",
              "      <td>37.339854</td>\n",
              "      <td>126.934403</td>\n",
              "      <td>5.075000</td>\n",
              "      <td>12.475000</td>\n",
              "      <td>6.100000</td>\n",
              "      <td>1.200000</td>\n",
              "      <td>0.020000</td>\n",
              "    </tr>\n",
              "    <tr>\n",
              "      <th>50%</th>\n",
              "      <td>37.561472</td>\n",
              "      <td>127.176612</td>\n",
              "      <td>9.500000</td>\n",
              "      <td>17.800000</td>\n",
              "      <td>7.400000</td>\n",
              "      <td>1.500000</td>\n",
              "      <td>0.100000</td>\n",
              "    </tr>\n",
              "    <tr>\n",
              "      <th>75%</th>\n",
              "      <td>37.786237</td>\n",
              "      <td>127.343083</td>\n",
              "      <td>14.800000</td>\n",
              "      <td>23.925000</td>\n",
              "      <td>8.800000</td>\n",
              "      <td>1.900000</td>\n",
              "      <td>0.300000</td>\n",
              "    </tr>\n",
              "    <tr>\n",
              "      <th>max</th>\n",
              "      <td>38.178624</td>\n",
              "      <td>127.743580</td>\n",
              "      <td>30.200000</td>\n",
              "      <td>36.800000</td>\n",
              "      <td>16.600000</td>\n",
              "      <td>3.900000</td>\n",
              "      <td>7.000000</td>\n",
              "    </tr>\n",
              "  </tbody>\n",
              "</table>\n",
              "</div>\n",
              "      <button class=\"colab-df-convert\" onclick=\"convertToInteractive('df-ca70c3db-00d5-4937-b041-9b48ddce6b20')\"\n",
              "              title=\"Convert this dataframe to an interactive table.\"\n",
              "              style=\"display:none;\">\n",
              "        \n",
              "  <svg xmlns=\"http://www.w3.org/2000/svg\" height=\"24px\"viewBox=\"0 0 24 24\"\n",
              "       width=\"24px\">\n",
              "    <path d=\"M0 0h24v24H0V0z\" fill=\"none\"/>\n",
              "    <path d=\"M18.56 5.44l.94 2.06.94-2.06 2.06-.94-2.06-.94-.94-2.06-.94 2.06-2.06.94zm-11 1L8.5 8.5l.94-2.06 2.06-.94-2.06-.94L8.5 2.5l-.94 2.06-2.06.94zm10 10l.94 2.06.94-2.06 2.06-.94-2.06-.94-.94-2.06-.94 2.06-2.06.94z\"/><path d=\"M17.41 7.96l-1.37-1.37c-.4-.4-.92-.59-1.43-.59-.52 0-1.04.2-1.43.59L10.3 9.45l-7.72 7.72c-.78.78-.78 2.05 0 2.83L4 21.41c.39.39.9.59 1.41.59.51 0 1.02-.2 1.41-.59l7.78-7.78 2.81-2.81c.8-.78.8-2.07 0-2.86zM5.41 20L4 18.59l7.72-7.72 1.47 1.35L5.41 20z\"/>\n",
              "  </svg>\n",
              "      </button>\n",
              "      \n",
              "  <style>\n",
              "    .colab-df-container {\n",
              "      display:flex;\n",
              "      flex-wrap:wrap;\n",
              "      gap: 12px;\n",
              "    }\n",
              "\n",
              "    .colab-df-convert {\n",
              "      background-color: #E8F0FE;\n",
              "      border: none;\n",
              "      border-radius: 50%;\n",
              "      cursor: pointer;\n",
              "      display: none;\n",
              "      fill: #1967D2;\n",
              "      height: 32px;\n",
              "      padding: 0 0 0 0;\n",
              "      width: 32px;\n",
              "    }\n",
              "\n",
              "    .colab-df-convert:hover {\n",
              "      background-color: #E2EBFA;\n",
              "      box-shadow: 0px 1px 2px rgba(60, 64, 67, 0.3), 0px 1px 3px 1px rgba(60, 64, 67, 0.15);\n",
              "      fill: #174EA6;\n",
              "    }\n",
              "\n",
              "    [theme=dark] .colab-df-convert {\n",
              "      background-color: #3B4455;\n",
              "      fill: #D2E3FC;\n",
              "    }\n",
              "\n",
              "    [theme=dark] .colab-df-convert:hover {\n",
              "      background-color: #434B5C;\n",
              "      box-shadow: 0px 1px 3px 1px rgba(0, 0, 0, 0.15);\n",
              "      filter: drop-shadow(0px 1px 2px rgba(0, 0, 0, 0.3));\n",
              "      fill: #FFFFFF;\n",
              "    }\n",
              "  </style>\n",
              "\n",
              "      <script>\n",
              "        const buttonEl =\n",
              "          document.querySelector('#df-ca70c3db-00d5-4937-b041-9b48ddce6b20 button.colab-df-convert');\n",
              "        buttonEl.style.display =\n",
              "          google.colab.kernel.accessAllowed ? 'block' : 'none';\n",
              "\n",
              "        async function convertToInteractive(key) {\n",
              "          const element = document.querySelector('#df-ca70c3db-00d5-4937-b041-9b48ddce6b20');\n",
              "          const dataTable =\n",
              "            await google.colab.kernel.invokeFunction('convertToInteractive',\n",
              "                                                     [key], {});\n",
              "          if (!dataTable) return;\n",
              "\n",
              "          const docLinkHtml = 'Like what you see? Visit the ' +\n",
              "            '<a target=\"_blank\" href=https://colab.research.google.com/notebooks/data_table.ipynb>data table notebook</a>'\n",
              "            + ' to learn more about interactive tables.';\n",
              "          element.innerHTML = '';\n",
              "          dataTable['output_type'] = 'display_data';\n",
              "          await google.colab.output.renderOutput(dataTable, element);\n",
              "          const docLink = document.createElement('div');\n",
              "          docLink.innerHTML = docLinkHtml;\n",
              "          element.appendChild(docLink);\n",
              "        }\n",
              "      </script>\n",
              "    </div>\n",
              "  </div>\n",
              "  "
            ]
          },
          "metadata": {},
          "execution_count": 5
        }
      ]
    },
    {
      "cell_type": "code",
      "source": [
        "fires[\"month\"].value_counts() / len(fires)"
      ],
      "metadata": {
        "id": "Lyp6tSwDMDU_",
        "colab": {
          "base_uri": "https://localhost:8080/"
        },
        "outputId": "3ad0d46a-6a1b-44c6-f186-45fec85aef10"
      },
      "execution_count": 6,
      "outputs": [
        {
          "output_type": "execute_result",
          "data": {
            "text/plain": [
              "03-Mar    0.375000\n",
              "04-Apr    0.219298\n",
              "02-Feb    0.098684\n",
              "06-Jun    0.087719\n",
              "05-May    0.081140\n",
              "01-Jan    0.032895\n",
              "11-Nov    0.030702\n",
              "12-Dec    0.019737\n",
              "09-Sep    0.017544\n",
              "10-Oct    0.017544\n",
              "08-Aug    0.010965\n",
              "07-Jul    0.008772\n",
              "Name: month, dtype: float64"
            ]
          },
          "metadata": {},
          "execution_count": 6
        }
      ]
    },
    {
      "cell_type": "code",
      "source": [
        "fires[\"day\"].value_counts() / len(fires)"
      ],
      "metadata": {
        "id": "WCKAsaRdMqAN",
        "colab": {
          "base_uri": "https://localhost:8080/"
        },
        "outputId": "268656e1-7d04-4f11-ba50-c30536903ace"
      },
      "execution_count": 7,
      "outputs": [
        {
          "output_type": "execute_result",
          "data": {
            "text/plain": [
              "06-sat    0.175439\n",
              "01-mon    0.157895\n",
              "00-sun    0.155702\n",
              "05-fri    0.140351\n",
              "03-wed    0.125000\n",
              "02-tue    0.116228\n",
              "04-thu    0.111842\n",
              "07-hol    0.017544\n",
              "Name: day, dtype: float64"
            ]
          },
          "metadata": {},
          "execution_count": 7
        }
      ]
    },
    {
      "cell_type": "markdown",
      "source": [
        "# 1-3. 데이터 시각화"
      ],
      "metadata": {
        "id": "lhuYygeRMxan"
      }
    },
    {
      "cell_type": "code",
      "source": [
        "fires.hist(bins=50, figsize=(20, 15))\n",
        "plt.show()"
      ],
      "metadata": {
        "id": "LR4d_td_M3Um",
        "colab": {
          "base_uri": "https://localhost:8080/",
          "height": 879
        },
        "outputId": "67afd433-a56c-42b5-ca03-f6bced5f2ba8"
      },
      "execution_count": 8,
      "outputs": [
        {
          "output_type": "display_data",
          "data": {
            "text/plain": [
              "<Figure size 1440x1080 with 9 Axes>"
            ],
            "image/png": "[encoded data removed]"
          },
          "metadata": {
            "needs_background": "light"
          }
        }
      ]
    },
    {
      "cell_type": "markdown",
      "source": [
        "# 1-4.특성 burned_area 왜곡 현상 아래 왼쪽 그림 ) 개선을 위해 로그 함수 (y=ln(burned_area+ 를 이용한 변환"
      ],
      "metadata": {
        "id": "BxraZS9cNISW"
      }
    },
    {
      "cell_type": "code",
      "source": [
        "fires['burned_area'] = np.log(fires['burned_area'] + 1)\n",
        "fires.hist(bins=50, figsize=(20, 15))\n",
        "plt.show()"
      ],
      "metadata": {
        "id": "fx-xl4MnNAXJ",
        "colab": {
          "base_uri": "https://localhost:8080/",
          "height": 879
        },
        "outputId": "42edde6d-2c1b-480b-d19b-5d21b3153824"
      },
      "execution_count": 9,
      "outputs": [
        {
          "output_type": "display_data",
          "data": {
            "text/plain": [
              "<Figure size 1440x1080 with 9 Axes>"
            ],
            "image/png": "[encoded data removed]"
          },
          "metadata": {
            "needs_background": "light"
          }
        }
      ]
    },
    {
      "cell_type": "markdown",
      "source": [
        "# 1-5. Scikit Learn 의 train_test_split 을 이용 하여 training/test set 분리 / Test set 비율 확인하기"
      ],
      "metadata": {
        "id": "SDlJoeKtN5-H"
      }
    },
    {
      "cell_type": "code",
      "source": [
        "from sklearn.model_selection import train_test_split\n",
        "\n",
        "train_set, test_set = train_test_split(fires, test_size=0.2, random_state=42)\n",
        "\n",
        "test_set.head()\n",
        "\n",
        "fires[\"month\"].hist()"
      ],
      "metadata": {
        "id": "BZ3orhvJNRwV",
        "colab": {
          "base_uri": "https://localhost:8080/",
          "height": 283
        },
        "outputId": "b15b5e3c-18bb-4def-9f46-071fa5089e13"
      },
      "execution_count": 10,
      "outputs": [
        {
          "output_type": "execute_result",
          "data": {
            "text/plain": [
              "<matplotlib.axes._subplots.AxesSubplot at 0x7fd92c8beb50>"
            ]
          },
          "metadata": {},
          "execution_count": 10
        },
        {
          "output_type": "display_data",
          "data": {
            "text/plain": [
              "<Figure size 432x288 with 1 Axes>"
            ],
            "image/png": "[encoded data removed]"
          },
          "metadata": {
            "needs_background": "light"
          }
        }
      ]
    },
    {
      "cell_type": "code",
      "source": [
        "from sklearn.model_selection import StratifiedShuffleSplit\n",
        "\n",
        "split = StratifiedShuffleSplit(n_splits=1, test_size=0.2, random_state=42)\n",
        "for train_index, test_index in split.split(fires, fires[\"month\"]):\n",
        "    strat_train_set = fires.loc[train_index]\n",
        "    strat_test_set = fires.loc[test_index]\n",
        "\n",
        "print(\"\\nMonth category proportion: \\n\",\n",
        "      strat_test_set[\"month\"].value_counts() / len(strat_test_set))\n",
        "\n",
        "print(\"\\nOverall month category proportion: \\n\",\n",
        "      fires[\"month\"].value_counts() / len(fires))"
      ],
      "metadata": {
        "id": "myhZxwTdNew3",
        "colab": {
          "base_uri": "https://localhost:8080/"
        },
        "outputId": "0d0fe058-0ab5-46b1-fdc7-2b0b66d9e1bf"
      },
      "execution_count": 11,
      "outputs": [
        {
          "output_type": "stream",
          "name": "stdout",
          "text": [
            "\n",
            "Month category proportion: \n",
            " 03-Mar    0.369565\n",
            "04-Apr    0.217391\n",
            "02-Feb    0.097826\n",
            "06-Jun    0.086957\n",
            "05-May    0.076087\n",
            "11-Nov    0.032609\n",
            "01-Jan    0.032609\n",
            "09-Sep    0.021739\n",
            "12-Dec    0.021739\n",
            "10-Oct    0.021739\n",
            "08-Aug    0.010870\n",
            "07-Jul    0.010870\n",
            "Name: month, dtype: float64\n",
            "\n",
            "Overall month category proportion: \n",
            " 03-Mar    0.375000\n",
            "04-Apr    0.219298\n",
            "02-Feb    0.098684\n",
            "06-Jun    0.087719\n",
            "05-May    0.081140\n",
            "01-Jan    0.032895\n",
            "11-Nov    0.030702\n",
            "12-Dec    0.019737\n",
            "09-Sep    0.017544\n",
            "10-Oct    0.017544\n",
            "08-Aug    0.010965\n",
            "07-Jul    0.008772\n",
            "Name: month, dtype: float64\n"
          ]
        }
      ]
    },
    {
      "cell_type": "markdown",
      "source": [
        "# 1-6. Pandas scatter_matrix () 함수를 이용하여 4 개 이상의 특성 에 대해 matrix 출력하기"
      ],
      "metadata": {
        "id": "sapMkgfZOKZ3"
      }
    },
    {
      "cell_type": "code",
      "source": [
        "from pandas.plotting import scatter_matrix\n",
        "\n",
        "attributes = [\"burned_area\", \"max_temp\", \"avg_temp\", \"max_wind_speed\"]\n",
        "scatter_matrix(fires[attributes], figsize=(12, 8))\n",
        "plt.show()"
      ],
      "metadata": {
        "id": "yNaoM67BOMta",
        "colab": {
          "base_uri": "https://localhost:8080/",
          "height": 504
        },
        "outputId": "39a9c8c5-0ac7-4add-f48c-83dd263bea99"
      },
      "execution_count": 12,
      "outputs": [
        {
          "output_type": "display_data",
          "data": {
            "text/plain": [
              "<Figure size 864x576 with 16 Axes>"
            ],
            "image/png": "[encoded data removed]"
          },
          "metadata": {
            "needs_background": "light"
          }
        }
      ]
    },
    {
      "cell_type": "markdown",
      "source": [
        "# 1-7. 지역별로 ‘burned_ 에 대해 plot 하기 : 원의 반경은 max_temp( 옵션 s), 컬러는 burned_area( 옵션 c) 를 의미"
      ],
      "metadata": {
        "id": "6dDjx2WCOWTJ"
      }
    },
    {
      "cell_type": "code",
      "source": [
        "fires.plot(kind=\"scatter\", x=\"longitude\", y=\"latitude\", alpha=0.4,\n",
        "           s=fires[\"max_temp\"], label=\"max_temp\",\n",
        "           c=\"burned_area\", cmap=plt.get_cmap(\"jet\"), colorbar=True)\n",
        "plt.legend()\n",
        "plt.show()"
      ],
      "metadata": {
        "id": "LzHa0P0qOc-5",
        "colab": {
          "base_uri": "https://localhost:8080/",
          "height": 288
        },
        "outputId": "cd1a17a4-464e-4095-d73c-0f2eaa61c556"
      },
      "execution_count": 13,
      "outputs": [
        {
          "output_type": "stream",
          "name": "stderr",
          "text": [
            "/usr/local/lib/python3.7/dist-packages/matplotlib/collections.py:885: RuntimeWarning: invalid value encountered in sqrt\n",
            "  scale = np.sqrt(self._sizes) * dpi / 72.0 * self._factor\n"
          ]
        },
        {
          "output_type": "display_data",
          "data": {
            "text/plain": [
              "<Figure size 432x288 with 2 Axes>"
            ],
            "image/png": "[encoded data removed]"
          },
          "metadata": {
            "needs_background": "light"
          }
        }
      ]
    },
    {
      "cell_type": "markdown",
      "source": [
        "# 1-8 corr() 함수를 이용 하여 타깃 클래스 (burned_area) 에 대한 correlation matrix 출력하기"
      ],
      "metadata": {
        "id": "59qswcJGPhrl"
      }
    },
    {
      "cell_type": "code",
      "source": [
        "corr_matrix = fires.corr()\n",
        "print(\"\\nCORR_MATRIX:\\n\")\n",
        "print(corr_matrix[\"burned_area\"].sort_values(ascending=False))"
      ],
      "metadata": {
        "id": "PwpnLviIPGf4",
        "colab": {
          "base_uri": "https://localhost:8080/"
        },
        "outputId": "8c156e12-1c52-468c-9976-b9df556e47eb"
      },
      "execution_count": 15,
      "outputs": [
        {
          "output_type": "stream",
          "name": "stdout",
          "text": [
            "\n",
            "CORR_MATRIX:\n",
            "\n",
            "burned_area       1.000000\n",
            "longitude         0.122639\n",
            "max_temp          0.105072\n",
            "avg_temp          0.073085\n",
            "latitude          0.056732\n",
            "max_wind_speed    0.054658\n",
            "avg_wind          0.009103\n",
            "Name: burned_area, dtype: float64\n"
          ]
        }
      ]
    },
    {
      "cell_type": "markdown",
      "source": [
        "#1-9. 카테고리형 특성 month, day 에 대해 OneHotEncoder()를 이용한 인코딩 출력"
      ],
      "metadata": {
        "id": "80b2gvnlPr5e"
      }
    },
    {
      "cell_type": "code",
      "source": [
        "fires = strat_train_set.drop([\"burned_area\"], axis=1)  # drop labels for training set\n",
        "fires_labels = strat_train_set[\"burned_area\"].copy()\n",
        "\n",
        "fires_num = fires.drop([\"month\", \"day\"], axis=1)\n",
        "\n",
        "from sklearn.preprocessing import OneHotEncoder\n",
        "\n",
        "cat_encoder = OneHotEncoder()\n",
        "\n",
        "fires_cat = fires[[\"month\"]]\n",
        "fires_cat_1hot = cat_encoder.fit_transform(fires_cat)\n",
        "print(\"\\nfires_cat_1hot: \\n\", fires_cat_1hot)"
      ],
      "metadata": {
        "id": "qfT-O3IwPL4V",
        "colab": {
          "base_uri": "https://localhost:8080/"
        },
        "outputId": "dc134346-24e7-4b95-9112-eb93de22da64"
      },
      "execution_count": 16,
      "outputs": [
        {
          "output_type": "stream",
          "name": "stdout",
          "text": [
            "\n",
            "fires_cat_1hot: \n",
            "   (0, 3)\t1.0\n",
            "  (1, 5)\t1.0\n",
            "  (2, 3)\t1.0\n",
            "  (3, 3)\t1.0\n",
            "  (4, 2)\t1.0\n",
            "  (5, 2)\t1.0\n",
            "  (6, 3)\t1.0\n",
            "  (7, 8)\t1.0\n",
            "  (8, 8)\t1.0\n",
            "  (9, 4)\t1.0\n",
            "  (10, 2)\t1.0\n",
            "  (11, 4)\t1.0\n",
            "  (12, 10)\t1.0\n",
            "  (13, 2)\t1.0\n",
            "  (14, 3)\t1.0\n",
            "  (15, 2)\t1.0\n",
            "  (16, 5)\t1.0\n",
            "  (17, 2)\t1.0\n",
            "  (18, 4)\t1.0\n",
            "  (19, 1)\t1.0\n",
            "  (20, 2)\t1.0\n",
            "  (21, 2)\t1.0\n",
            "  (22, 3)\t1.0\n",
            "  (23, 3)\t1.0\n",
            "  (24, 1)\t1.0\n",
            "  :\t:\n",
            "  (339, 4)\t1.0\n",
            "  (340, 10)\t1.0\n",
            "  (341, 5)\t1.0\n",
            "  (342, 3)\t1.0\n",
            "  (343, 0)\t1.0\n",
            "  (344, 3)\t1.0\n",
            "  (345, 1)\t1.0\n",
            "  (346, 3)\t1.0\n",
            "  (347, 3)\t1.0\n",
            "  (348, 4)\t1.0\n",
            "  (349, 2)\t1.0\n",
            "  (350, 1)\t1.0\n",
            "  (351, 9)\t1.0\n",
            "  (352, 3)\t1.0\n",
            "  (353, 3)\t1.0\n",
            "  (354, 3)\t1.0\n",
            "  (355, 2)\t1.0\n",
            "  (356, 1)\t1.0\n",
            "  (357, 2)\t1.0\n",
            "  (358, 3)\t1.0\n",
            "  (359, 4)\t1.0\n",
            "  (360, 2)\t1.0\n",
            "  (361, 2)\t1.0\n",
            "  (362, 2)\t1.0\n",
            "  (363, 2)\t1.0\n"
          ]
        }
      ]
    },
    {
      "cell_type": "markdown",
      "source": [
        "# 1-10.Scikit Learn 의 Pipeline , StandardScaler 를 이용하여 카테고리형 특성을 인코딩한 training set 생성하기"
      ],
      "metadata": {
        "id": "PaaMyJUkRSP4"
      }
    },
    {
      "cell_type": "code",
      "source": [
        "print(\"\\n\\nAlternatively, you can set sparse=False when creating the OneHotEncoder:\")\n",
        "cat_encoder = OneHotEncoder(sparse=False)\n",
        "fires_cat_1hot = cat_encoder.fit_transform(fires_cat)\n",
        "print(\"\\ncat_month_encoder.categories_: \\n\", cat_encoder.categories_)"
      ],
      "metadata": {
        "id": "r54AbvtkQU2h",
        "colab": {
          "base_uri": "https://localhost:8080/"
        },
        "outputId": "95c5334d-7da9-4276-ecda-56a3a2dec999"
      },
      "execution_count": 17,
      "outputs": [
        {
          "output_type": "stream",
          "name": "stdout",
          "text": [
            "\n",
            "\n",
            "Alternatively, you can set sparse=False when creating the OneHotEncoder:\n",
            "\n",
            "cat_month_encoder.categories_: \n",
            " [array(['01-Jan', '02-Feb', '03-Mar', '04-Apr', '05-May', '06-Jun',\n",
            "       '07-Jul', '08-Aug', '09-Sep', '10-Oct', '11-Nov', '12-Dec'],\n",
            "      dtype=object)]\n"
          ]
        }
      ]
    },
    {
      "cell_type": "code",
      "source": [
        "cat_encoder2 = OneHotEncoder()\n",
        "fires_cat = fires[[\"day\"]]\n",
        "fires_cat_1hot_2 = cat_encoder2.fit_transform(fires_cat)\n",
        "print(\"\\nfires_cat_1hot_2: \\n\", fires_cat_1hot_2)"
      ],
      "metadata": {
        "id": "lYDKjuvmQoQ1",
        "colab": {
          "base_uri": "https://localhost:8080/"
        },
        "outputId": "c48ae753-6580-4c09-db88-a836886e012d"
      },
      "execution_count": 18,
      "outputs": [
        {
          "output_type": "stream",
          "name": "stdout",
          "text": [
            "\n",
            "fires_cat_1hot_2: \n",
            "   (0, 5)\t1.0\n",
            "  (1, 2)\t1.0\n",
            "  (2, 3)\t1.0\n",
            "  (3, 2)\t1.0\n",
            "  (4, 3)\t1.0\n",
            "  (5, 6)\t1.0\n",
            "  (6, 1)\t1.0\n",
            "  (7, 7)\t1.0\n",
            "  (8, 7)\t1.0\n",
            "  (9, 4)\t1.0\n",
            "  (10, 6)\t1.0\n",
            "  (11, 2)\t1.0\n",
            "  (12, 6)\t1.0\n",
            "  (13, 3)\t1.0\n",
            "  (14, 3)\t1.0\n",
            "  (15, 3)\t1.0\n",
            "  (16, 1)\t1.0\n",
            "  (17, 6)\t1.0\n",
            "  (18, 7)\t1.0\n",
            "  (19, 1)\t1.0\n",
            "  (20, 0)\t1.0\n",
            "  (21, 6)\t1.0\n",
            "  (22, 6)\t1.0\n",
            "  (23, 0)\t1.0\n",
            "  (24, 5)\t1.0\n",
            "  :\t:\n",
            "  (339, 2)\t1.0\n",
            "  (340, 1)\t1.0\n",
            "  (341, 0)\t1.0\n",
            "  (342, 1)\t1.0\n",
            "  (343, 0)\t1.0\n",
            "  (344, 0)\t1.0\n",
            "  (345, 0)\t1.0\n",
            "  (346, 6)\t1.0\n",
            "  (347, 5)\t1.0\n",
            "  (348, 3)\t1.0\n",
            "  (349, 3)\t1.0\n",
            "  (350, 4)\t1.0\n",
            "  (351, 4)\t1.0\n",
            "  (352, 2)\t1.0\n",
            "  (353, 3)\t1.0\n",
            "  (354, 5)\t1.0\n",
            "  (355, 0)\t1.0\n",
            "  (356, 1)\t1.0\n",
            "  (357, 3)\t1.0\n",
            "  (358, 5)\t1.0\n",
            "  (359, 2)\t1.0\n",
            "  (360, 5)\t1.0\n",
            "  (361, 2)\t1.0\n",
            "  (362, 3)\t1.0\n",
            "  (363, 2)\t1.0\n"
          ]
        }
      ]
    },
    {
      "cell_type": "code",
      "source": [
        "print(\"\\n\\nAlternatively, you can set sparse=False when creating the OneHotEncoder:\")\n",
        "cat_encoder2 = OneHotEncoder(sparse=False)\n",
        "fires_cat_1hot_2 = cat_encoder2.fit_transform(fires_cat)\n",
        "print(\"\\ncat_day_encoder.categories_: \\n\", cat_encoder2.categories_)"
      ],
      "metadata": {
        "id": "MNI3bK9GQsK_",
        "colab": {
          "base_uri": "https://localhost:8080/"
        },
        "outputId": "de1ec0e6-e98d-4a50-cd37-da12b6b845f5"
      },
      "execution_count": 20,
      "outputs": [
        {
          "output_type": "stream",
          "name": "stdout",
          "text": [
            "\n",
            "\n",
            "Alternatively, you can set sparse=False when creating the OneHotEncoder:\n",
            "\n",
            "cat_day_encoder.categories_: \n",
            " [array(['00-sun', '01-mon', '02-tue', '03-wed', '04-thu', '05-fri',\n",
            "       '06-sat', '07-hol'], dtype=object)]\n"
          ]
        }
      ]
    },
    {
      "cell_type": "code",
      "source": [
        "print(\"\\n\\n\\n##################################################\")\n",
        "print(\"Now let's build a pipeline for preprocessing the numerical attributes:\")\n",
        "\n",
        "from sklearn.pipeline import Pipeline\n",
        "from sklearn.preprocessing import StandardScaler\n",
        "\n",
        "num_pipeline = Pipeline([\n",
        "    ('std_scaler', StandardScaler()),\n",
        "])\n",
        "fires_num_tr = num_pipeline.fit_transform(fires_num)\n",
        "print(\"\\nfires_num_tr: \\n\", fires_num_tr)"
      ],
      "metadata": {
        "id": "8W0w5b7xQ8di",
        "colab": {
          "base_uri": "https://localhost:8080/"
        },
        "outputId": "22531dbf-8807-48dc-b148-33ba7b3f2f06"
      },
      "execution_count": 21,
      "outputs": [
        {
          "output_type": "stream",
          "name": "stdout",
          "text": [
            "\n",
            "\n",
            "\n",
            "##################################################\n",
            "Now let's build a pipeline for preprocessing the numerical attributes:\n",
            "\n",
            "fires_num_tr: \n",
            " [[ 1.57238451 -0.82962957  0.44533466  0.61797222  0.86240366 -0.19289834]\n",
            " [-0.81733668  0.20170363  1.79577391  1.77216499 -0.06757688 -1.013167  ]\n",
            " [ 0.54252478  0.111668    0.22435369 -0.10196981  1.55988906  1.6116927 ]\n",
            " ...\n",
            " [-1.60511765 -1.12081678  0.33484418 -0.05625921  1.00190074  2.43196136]\n",
            " [-1.06300201 -1.07035545 -1.12608555 -1.29044554  0.25791631  0.13520912]\n",
            " [-1.08866791 -1.92813657  0.02792617 -0.05625921 -1.27655159 -0.02884461]]\n"
          ]
        }
      ]
    },
    {
      "cell_type": "code",
      "source": [
        "from sklearn.compose import ColumnTransformer\n",
        "\n",
        "num_attribs = list(fires_num)\n",
        "cat_attribs = [\"month\", \"day\"]\n",
        "\n",
        "full_pipeline = ColumnTransformer([\n",
        "    (\"num\", num_pipeline, num_attribs),\n",
        "    (\"cat\", OneHotEncoder(), cat_attribs),\n",
        "])\n",
        "\n",
        "fires_prepared = full_pipeline.fit_transform(fires)\n",
        "\n",
        "print(\"\\nfires prepared:\", fires_prepared)\n",
        "print(\"\\nfires prepared shape:\", fires_prepared.shape)"
      ],
      "metadata": {
        "id": "2o8bJLLyRIBg",
        "colab": {
          "base_uri": "https://localhost:8080/"
        },
        "outputId": "648a8cf8-ad48-4b33-e38d-69a218872293"
      },
      "execution_count": 22,
      "outputs": [
        {
          "output_type": "stream",
          "name": "stdout",
          "text": [
            "\n",
            "fires prepared: [[ 1.57238451 -0.82962957  0.44533466 ...  1.          0.\n",
            "   0.        ]\n",
            " [-0.81733668  0.20170363  1.79577391 ...  0.          0.\n",
            "   0.        ]\n",
            " [ 0.54252478  0.111668    0.22435369 ...  0.          0.\n",
            "   0.        ]\n",
            " ...\n",
            " [-1.60511765 -1.12081678  0.33484418 ...  0.          0.\n",
            "   0.        ]\n",
            " [-1.06300201 -1.07035545 -1.12608555 ...  0.          0.\n",
            "   0.        ]\n",
            " [-1.08866791 -1.92813657  0.02792617 ...  0.          0.\n",
            "   0.        ]]\n",
            "\n",
            "fires prepared shape: (364, 26)\n"
          ]
        }
      ]
    },
    {
      "cell_type": "markdown",
      "source": [
        "# 2.모델 개발"
      ],
      "metadata": {
        "id": "9Lbrl2cfReKl"
      }
    },
    {
      "cell_type": "markdown",
      "source": [
        "① SGD Regression (SGD)\n",
        "\n",
        "② Support Vector Machine (SVM)\n",
        "\n",
        "③ Decision Tree (DT)\n",
        "\n",
        "④ Random Forest (RF)\n"
      ],
      "metadata": {
        "id": "smqEx32yRmoH"
      }
    },
    {
      "cell_type": "markdown",
      "source": [
        "위4 가지 모델에 대해 2 1 ~ 2 5 까지 모두 답하시오\n",
        "\n",
        "2-1.GridSearchCV 를 통해 Best 모델 구하기\n",
        "\n",
        "2-2. mean_squared_error 이용 => training set 에 대해 RMSE 구하기\n",
        "\n",
        "2-3. 각 모델에 대한 학습 곡선 (learning curves) 그리기\n",
        "\n",
        "참조 : 제 06 강 실습과제 #6 Training Models [2] Polynomial Regression.pdf\n",
        "\n",
        "2-4. cross_val_score 를 이용하여 RMSE score 출력하기\n",
        "\n",
        "2-5. mean_squared_error 이용 => test set 에 대해 RMSE 구하기\n"
      ],
      "metadata": {
        "id": "1caabREBRsnF"
      }
    },
    {
      "cell_type": "markdown",
      "source": [
        "# 2-1.GridSearchCV 를 통해 Best 모델 구하기"
      ],
      "metadata": {
        "id": "F5Wd4a3YSqbs"
      }
    },
    {
      "cell_type": "code",
      "source": [
        "# 2-1\n",
        "# sgd\n",
        "from sklearn.linear_model import SGDRegressor\n",
        "\n",
        "sgd_reg = SGDRegressor(max_iter=1000, tol=1e-3, penalty=None, eta0=0.1, random_state=42)\n",
        "sgd_reg.fit(fires_prepared, fires_labels)\n",
        "from sklearn.model_selection import GridSearchCV\n",
        "\n",
        "print(\"2-1_sgd_reg.get_params().keys(): \", sgd_reg.get_params().keys())\n",
        "\n",
        "params_sgd = [{'alpha': [0.1, 0.5], 'epsilon': [0.1, 1]},\n",
        "              {'alpha': [0.5, 0.6], 'epsilon': [0.1, 0.7]}, ]\n",
        "\n",
        "grid_search_cv = GridSearchCV(sgd_reg, params_sgd, verbose=1, cv=10)\n",
        "grid_search_cv.fit(fires_prepared, fires_labels)\n",
        "\n",
        "sgd_best_model_cv = grid_search_cv.best_estimator_\n",
        "print(sgd_best_model_cv)"
      ],
      "metadata": {
        "id": "7GRNiy1NSADI",
        "colab": {
          "base_uri": "https://localhost:8080/"
        },
        "outputId": "b18c0866-8614-424a-bc1d-b355292d1192"
      },
      "execution_count": 23,
      "outputs": [
        {
          "output_type": "stream",
          "name": "stdout",
          "text": [
            "2-1_sgd_reg.get_params().keys():  dict_keys(['alpha', 'average', 'early_stopping', 'epsilon', 'eta0', 'fit_intercept', 'l1_ratio', 'learning_rate', 'loss', 'max_iter', 'n_iter_no_change', 'penalty', 'power_t', 'random_state', 'shuffle', 'tol', 'validation_fraction', 'verbose', 'warm_start'])\n",
            "Fitting 10 folds for each of 8 candidates, totalling 80 fits\n",
            "SGDRegressor(alpha=0.1, eta0=0.1, penalty=None, random_state=42)\n"
          ]
        }
      ]
    },
    {
      "cell_type": "code",
      "source": [
        "# svm\n",
        "from sklearn.svm import SVR\n",
        "\n",
        "svm_reg = SVR(kernel=\"poly\", degree=2, C=100, epsilon=0.1, gamma=\"scale\")\n",
        "svm_reg.fit(fires_prepared, fires_labels)\n",
        "\n",
        "print(\"2-1_svm_reg.get_params().keys(): \", svm_reg.get_params().keys())\n",
        "\n",
        "params_svm = {'kernel': [\"linear\", \"poly\", \"rbf\"],\n",
        "              'C': [0.1, 1, 10, 100],\n",
        "              'degree': [2, 3, 4],\n",
        "              'epsilon': [0.1, 1.0, 1.5]}\n",
        "\n",
        "grid_search_cv = GridSearchCV(svm_reg, params_svm, verbose=1, cv=10)\n",
        "grid_search_cv.fit(fires_prepared, fires_labels)\n",
        "\n",
        "svm_best_model_cv = grid_search_cv.best_estimator_\n",
        "print(svm_best_model_cv)"
      ],
      "metadata": {
        "id": "T3zjGGYsSaoY",
        "colab": {
          "base_uri": "https://localhost:8080/"
        },
        "outputId": "3e95a22e-b1f6-4d57-a81d-429ee13beaed"
      },
      "execution_count": 24,
      "outputs": [
        {
          "output_type": "stream",
          "name": "stdout",
          "text": [
            "2-1_svm_reg.get_params().keys():  dict_keys(['C', 'cache_size', 'coef0', 'degree', 'epsilon', 'gamma', 'kernel', 'max_iter', 'shrinking', 'tol', 'verbose'])\n",
            "Fitting 10 folds for each of 108 candidates, totalling 1080 fits\n",
            "SVR(C=0.1, degree=2, kernel='linear')\n"
          ]
        }
      ]
    },
    {
      "cell_type": "code",
      "source": [
        "# dt\n",
        "from sklearn.tree import DecisionTreeRegressor\n",
        "\n",
        "tree_reg = DecisionTreeRegressor(max_depth=2, random_state=42)\n",
        "tree_reg.fit(fires_prepared, fires_labels)\n",
        "\n",
        "print(\"2-1_tree_reg.get_params().keys(): \", tree_reg.get_params().keys())\n",
        "\n",
        "params_tree = [{'max_features': [2, 4, 6, 8]},\n",
        "               {'max_features': [2, 3, 4]}, ]\n",
        "\n",
        "grid_search_cv = GridSearchCV(tree_reg, params_tree, verbose=1, cv=10)\n",
        "grid_search_cv.fit(fires_prepared, fires_labels)\n",
        "\n",
        "tree_best_model_cv = grid_search_cv.best_estimator_\n",
        "print(tree_best_model_cv)"
      ],
      "metadata": {
        "id": "5QnYNl9vS4O9",
        "colab": {
          "base_uri": "https://localhost:8080/"
        },
        "outputId": "a8e2ef19-4ac4-4a49-cbf3-df96485b88d0"
      },
      "execution_count": 25,
      "outputs": [
        {
          "output_type": "stream",
          "name": "stdout",
          "text": [
            "2-1_tree_reg.get_params().keys():  dict_keys(['ccp_alpha', 'criterion', 'max_depth', 'max_features', 'max_leaf_nodes', 'min_impurity_decrease', 'min_samples_leaf', 'min_samples_split', 'min_weight_fraction_leaf', 'random_state', 'splitter'])\n",
            "Fitting 10 folds for each of 7 candidates, totalling 70 fits\n",
            "DecisionTreeRegressor(max_depth=2, max_features=3, random_state=42)\n"
          ]
        }
      ]
    },
    {
      "cell_type": "code",
      "source": [
        "# rf\n",
        "from sklearn.ensemble import RandomForestRegressor\n",
        "\n",
        "forest_reg = RandomForestRegressor(random_state=42)\n",
        "forest_reg.fit(fires_prepared, fires_labels)\n",
        "\n",
        "print(\"2-1_forest_reg.get_params().keys(): \", forest_reg.get_params().keys())\n",
        "\n",
        "params_forest = [{'n_estimators': [3, 10, 30], 'max_features': [2, 4, 6, 8]},\n",
        "                 {'bootstrap': [False], 'n_estimators': [3, 10], 'max_features': [2, 3, 4]}, ]\n",
        "\n",
        "grid_search_cv = GridSearchCV(forest_reg, params_forest, verbose=1, cv=10)\n",
        "grid_search_cv.fit(fires_prepared, fires_labels)\n",
        "\n",
        "forest_best_model_cv = grid_search_cv.best_estimator_\n",
        "print(forest_best_model_cv)"
      ],
      "metadata": {
        "id": "fLDw5lIlTEAR",
        "colab": {
          "base_uri": "https://localhost:8080/"
        },
        "outputId": "c88a0348-9000-4fc2-ac9a-d78418c709ad"
      },
      "execution_count": 26,
      "outputs": [
        {
          "output_type": "stream",
          "name": "stdout",
          "text": [
            "2-1_forest_reg.get_params().keys():  dict_keys(['bootstrap', 'ccp_alpha', 'criterion', 'max_depth', 'max_features', 'max_leaf_nodes', 'max_samples', 'min_impurity_decrease', 'min_samples_leaf', 'min_samples_split', 'min_weight_fraction_leaf', 'n_estimators', 'n_jobs', 'oob_score', 'random_state', 'verbose', 'warm_start'])\n",
            "Fitting 10 folds for each of 18 candidates, totalling 180 fits\n",
            "RandomForestRegressor(max_features=4, n_estimators=30, random_state=42)\n"
          ]
        }
      ]
    },
    {
      "cell_type": "markdown",
      "source": [
        "# 2-2. mean_squared_error 이용 => training set 에 대해 RMSE 구하기"
      ],
      "metadata": {
        "id": "qbxiEJIBTRg6"
      }
    },
    {
      "cell_type": "code",
      "source": [
        "# 2-2\n",
        "# sgd\n",
        "from sklearn.metrics import mean_squared_error\n",
        "\n",
        "fires_predictions = sgd_reg.predict(fires_prepared)\n",
        "sgd_mse = mean_squared_error(fires_labels, fires_predictions)\n",
        "sgd_rmse = np.sqrt(sgd_mse)\n",
        "# revert into the original value: y=ln(burned_area+1) => burned_area = exp(y)-1\n",
        "sgd_rmse_reverted = np.exp(sgd_rmse) - 1\n",
        "print(\"\\n2-2_SGD - RMSE(train set):\\n\", sgd_rmse_reverted)"
      ],
      "metadata": {
        "id": "_AeOK8sMTNqI",
        "colab": {
          "base_uri": "https://localhost:8080/"
        },
        "outputId": "ccbbcd78-56e8-4893-c6c4-4e0cc6fed621"
      },
      "execution_count": 27,
      "outputs": [
        {
          "output_type": "stream",
          "name": "stdout",
          "text": [
            "\n",
            "2-2_SGD - RMSE(train set):\n",
            " 0.28523835599097036\n"
          ]
        }
      ]
    },
    {
      "cell_type": "code",
      "source": [
        "# svm\n",
        "fires_predictions = svm_reg.predict(fires_prepared)\n",
        "svm_mse = mean_squared_error(fires_labels, fires_predictions)\n",
        "svm_rmse = np.sqrt(svm_mse)\n",
        "# revert into the original value: y=ln(burned_area+1) => burned_area = exp(y)-1\n",
        "svm_rmse_reverted = np.exp(svm_rmse) - 1\n",
        "print(\"\\n2-2_SVM - RMSE(train set):\\n\", svm_rmse_reverted)"
      ],
      "metadata": {
        "id": "DkoG7mnVTWwA",
        "colab": {
          "base_uri": "https://localhost:8080/"
        },
        "outputId": "0d6167c4-a364-4ff0-86f3-7b01408679f3"
      },
      "execution_count": 28,
      "outputs": [
        {
          "output_type": "stream",
          "name": "stdout",
          "text": [
            "\n",
            "2-2_SVM - RMSE(train set):\n",
            " 0.24866185535284613\n"
          ]
        }
      ]
    },
    {
      "cell_type": "code",
      "source": [
        "# dt\n",
        "fires_predictions = sgd_reg.predict(fires_prepared)\n",
        "tree_mse = mean_squared_error(fires_labels, fires_predictions)\n",
        "tree_rmse = np.sqrt(tree_mse)\n",
        "# revert into the original value: y=ln(burned_area+1) => burned_area = exp(y)-1\n",
        "tree_rmse_reverted = np.exp(tree_rmse) - 1\n",
        "print(\"\\n2-2_DT - RMSE(train set):\\n\", tree_rmse_reverted)"
      ],
      "metadata": {
        "id": "Gr33mxuGThfV",
        "colab": {
          "base_uri": "https://localhost:8080/"
        },
        "outputId": "d23d27c1-c14e-4f19-e999-f9fbbc27e16c"
      },
      "execution_count": 29,
      "outputs": [
        {
          "output_type": "stream",
          "name": "stdout",
          "text": [
            "\n",
            "2-2_DT - RMSE(train set):\n",
            " 0.28523835599097036\n"
          ]
        }
      ]
    },
    {
      "cell_type": "code",
      "source": [
        "# rf\n",
        "fires_predictions = forest_reg.predict(fires_prepared)\n",
        "forest_mse = mean_squared_error(fires_labels, fires_predictions)\n",
        "forest_rmse = np.sqrt(forest_mse)\n",
        "# revert into the original value: y=ln(burned_area+1) => burned_area = exp(y)-1\n",
        "forest_rmse_reverted = np.exp(forest_rmse) - 1\n",
        "print(\"\\n2-2_RF - RMSE(traRFin set):\\n\", forest_rmse_reverted)"
      ],
      "metadata": {
        "id": "Jbf3CVF6Tkuz",
        "colab": {
          "base_uri": "https://localhost:8080/"
        },
        "outputId": "f3a294e2-ab12-4061-b6ae-8be004f51c00"
      },
      "execution_count": 30,
      "outputs": [
        {
          "output_type": "stream",
          "name": "stdout",
          "text": [
            "\n",
            "2-2_RF - RMSE(traRFin set):\n",
            " 0.10469686627409014\n"
          ]
        }
      ]
    },
    {
      "cell_type": "markdown",
      "source": [
        "# 2-3. 각 모델에 대한 학습 곡선 (learning curves) 그리기"
      ],
      "metadata": {
        "id": "Aw3gSUs8Tmww"
      }
    },
    {
      "cell_type": "code",
      "source": [
        "from sklearn.metrics import mean_squared_error\n",
        "from sklearn.model_selection import train_test_split\n",
        "\n",
        "\n",
        "def plot_learning_curves(model, X, y):\n",
        "    X_train, X_val, y_train, y_val = train_test_split(X, y, test_size=0.2, random_state=10)\n",
        "    train_errors, val_errors = [], []\n",
        "    for m in range(1, len(X_train)):\n",
        "        model.fit(X_train[:m], y_train[:m])\n",
        "        y_train_predict = model.predict(X_train[:m])\n",
        "        y_val_predict = model.predict(X_val)\n",
        "        train_errors.append(mean_squared_error(y_train_predict, y_train[:m]))\n",
        "        val_errors.append(mean_squared_error(y_val_predict, y_val))\n",
        "    plt.plot(np.sqrt(train_errors), \"r-+\", linewidth=2, label=\"train\")\n",
        "    plt.plot(np.sqrt(val_errors), \"b-\", linewidth=3, label=\"val\")\n",
        "    plt.legend(loc=\"upper right\", fontsize=14)  # not shown in the book\n",
        "    plt.xlabel(\"Training set size\", fontsize=14)  # not shown\n",
        "    plt.ylabel(\"RMSE\", fontsize=14)  # not shown"
      ],
      "metadata": {
        "id": "HyynSK8XTtU7"
      },
      "execution_count": 31,
      "outputs": []
    },
    {
      "cell_type": "code",
      "source": [
        "# sgd\n",
        "plot_learning_curves(sgd_reg, fires_prepared, fires_labels)\n",
        "plt.axis([0, 80, 0, 3])  # not shown in the book\n",
        "plt.show()"
      ],
      "metadata": {
        "id": "63jm-JlyTxiI",
        "colab": {
          "base_uri": "https://localhost:8080/",
          "height": 287
        },
        "outputId": "a1b57c84-f6c3-41de-a5c8-26e66ddb81b2"
      },
      "execution_count": 32,
      "outputs": [
        {
          "output_type": "display_data",
          "data": {
            "text/plain": [
              "<Figure size 432x288 with 1 Axes>"
            ],
            "image/png": "[encoded data removed]"
          },
          "metadata": {
            "needs_background": "light"
          }
        }
      ]
    },
    {
      "cell_type": "code",
      "source": [
        "# dt\n",
        "plot_learning_curves(tree_reg, fires_prepared, fires_labels)\n",
        "plt.axis([0, 80, 0, 3])  # not shown in the book\n",
        "plt.show()"
      ],
      "metadata": {
        "id": "RMjiL1iVT9tQ",
        "colab": {
          "base_uri": "https://localhost:8080/",
          "height": 287
        },
        "outputId": "7719b072-3848-45e6-c689-e3843348f092"
      },
      "execution_count": 33,
      "outputs": [
        {
          "output_type": "display_data",
          "data": {
            "text/plain": [
              "<Figure size 432x288 with 1 Axes>"
            ],
            "image/png": "[encoded data removed]"
          },
          "metadata": {
            "needs_background": "light"
          }
        }
      ]
    },
    {
      "cell_type": "code",
      "source": [
        "# rf\n",
        "plot_learning_curves(forest_reg, fires_prepared, fires_labels)\n",
        "plt.axis([0, 80, 0, 3])  # not shown in the book\n",
        "plt.show()"
      ],
      "metadata": {
        "id": "VeHdpo_XUFcV",
        "colab": {
          "base_uri": "https://localhost:8080/",
          "height": 287
        },
        "outputId": "9084dc31-56a8-44ad-fb4f-b21516fbca8a"
      },
      "execution_count": 34,
      "outputs": [
        {
          "output_type": "display_data",
          "data": {
            "text/plain": [
              "<Figure size 432x288 with 1 Axes>"
            ],
            "image/png": "[encoded data removed]"
          },
          "metadata": {
            "needs_background": "light"
          }
        }
      ]
    },
    {
      "cell_type": "markdown",
      "source": [
        "# 2-4. cross_val_score 를 이용하여 RMSE score 출력하기"
      ],
      "metadata": {
        "id": "8XcpIwGyUKVa"
      }
    },
    {
      "cell_type": "code",
      "source": [
        "# sgd\n",
        "from sklearn.model_selection import cross_val_score\n",
        "\n",
        "sgd_scores = cross_val_score(sgd_reg, fires_prepared, fires_labels, scoring=\"neg_mean_squared_error\", cv=10)\n",
        "\n",
        "\n",
        "def display_scores(scores):\n",
        "    print(\"Scores:\", scores)\n",
        "    print(\"Mean:\", scores.mean())\n",
        "    print(\"Standard deviation:\", scores.std())\n",
        "\n",
        "\n",
        "sgd_rmse_scores = np.sqrt(-sgd_scores)\n",
        "print(\"\\nSGD Regression scores (train set): \\n\")\n",
        "display_scores(sgd_rmse_scores)"
      ],
      "metadata": {
        "id": "QOZ65E8RUPXk",
        "colab": {
          "base_uri": "https://localhost:8080/"
        },
        "outputId": "a5518d70-6ac2-4bac-da1c-29e9a7b9f444"
      },
      "execution_count": 35,
      "outputs": [
        {
          "output_type": "stream",
          "name": "stdout",
          "text": [
            "\n",
            "SGD Regression scores (train set): \n",
            "\n",
            "Scores: [0.32234578 0.22672436 0.24668371 0.14465495 0.3180637  0.28217083\n",
            " 0.36735943 0.16405528 0.26057849 0.18787977]\n",
            "Mean: 0.25205163069163883\n",
            "Standard deviation: 0.06902198359246961\n"
          ]
        }
      ]
    },
    {
      "cell_type": "code",
      "source": [
        "# svm\n",
        "svm_scores = cross_val_score(svm_reg, fires_prepared, fires_labels, scoring=\"neg_mean_squared_error\", cv=10)\n",
        "\n",
        "\n",
        "def display_scores(scores):\n",
        "    print(\"Scores:\", scores)\n",
        "    print(\"Mean:\", scores.mean())\n",
        "    print(\"Standard deviation:\", scores.std())\n",
        "\n",
        "\n",
        "sgd_rmse_scores = np.sqrt(-sgd_scores)\n",
        "print(\"\\nSGD Regression scores (train set): \\n\")\n",
        "display_scores(sgd_rmse_scores)"
      ],
      "metadata": {
        "id": "yGV5wyAdUZEo",
        "colab": {
          "base_uri": "https://localhost:8080/"
        },
        "outputId": "918eca27-4620-4289-d5de-154d06857ea0"
      },
      "execution_count": 36,
      "outputs": [
        {
          "output_type": "stream",
          "name": "stdout",
          "text": [
            "\n",
            "SGD Regression scores (train set): \n",
            "\n",
            "Scores: [0.32234578 0.22672436 0.24668371 0.14465495 0.3180637  0.28217083\n",
            " 0.36735943 0.16405528 0.26057849 0.18787977]\n",
            "Mean: 0.25205163069163883\n",
            "Standard deviation: 0.06902198359246961\n"
          ]
        }
      ]
    },
    {
      "cell_type": "code",
      "source": [
        "# dt\n",
        "tree_scores = cross_val_score(tree_reg, fires_prepared, fires_labels, scoring=\"neg_mean_squared_error\", cv=10)\n",
        "\n",
        "\n",
        "def display_scores(scores):\n",
        "    print(\"Scores:\", scores)\n",
        "    print(\"Mean:\", scores.mean())\n",
        "    print(\"Standard deviation:\", scores.std())\n",
        "\n",
        "\n",
        "tree_rmse_scores = np.sqrt(-tree_scores)\n",
        "print(\"\\nDT Regression scores (train set): \\n\")\n",
        "display_scores(tree_rmse_scores)"
      ],
      "metadata": {
        "id": "-uxv9U1sUdEi",
        "colab": {
          "base_uri": "https://localhost:8080/"
        },
        "outputId": "8a058786-0abb-4d67-d216-ab96c83e254d"
      },
      "execution_count": 37,
      "outputs": [
        {
          "output_type": "stream",
          "name": "stdout",
          "text": [
            "\n",
            "DT Regression scores (train set): \n",
            "\n",
            "Scores: [0.31308313 0.21145148 0.24689604 0.15291928 0.30524811 0.27515015\n",
            " 0.34438076 0.1554271  0.26539039 0.18915782]\n",
            "Mean: 0.24591042711355113\n",
            "Standard deviation: 0.06340962445623774\n"
          ]
        }
      ]
    },
    {
      "cell_type": "code",
      "source": [
        "# rf\n",
        "forest_scores = cross_val_score(forest_reg, fires_prepared, fires_labels, scoring=\"neg_mean_squared_error\", cv=10)\n",
        "\n",
        "\n",
        "def display_scores(scores):\n",
        "    print(\"Scores:\", scores)\n",
        "    print(\"Mean:\", scores.mean())\n",
        "    print(\"Standard deviation:\", scores.std())\n",
        "\n",
        "\n",
        "forest_rmse_scores = np.sqrt(-forest_scores)\n",
        "print(\"\\nRF Regression scores (train set): \\n\")\n",
        "display_scores(forest_rmse_scores)"
      ],
      "metadata": {
        "id": "uRJhgGa7UgvA",
        "colab": {
          "base_uri": "https://localhost:8080/"
        },
        "outputId": "34703cba-960b-4ae7-e841-fce9cb7736f2"
      },
      "execution_count": 38,
      "outputs": [
        {
          "output_type": "stream",
          "name": "stdout",
          "text": [
            "\n",
            "RF Regression scores (train set): \n",
            "\n",
            "Scores: [0.31074425 0.23174983 0.24640968 0.1855568  0.32783453 0.3019683\n",
            " 0.3384158  0.20965581 0.2729009  0.20065108]\n",
            "Mean: 0.2625886977528433\n",
            "Standard deviation: 0.052695055696935264\n"
          ]
        }
      ]
    },
    {
      "cell_type": "markdown",
      "source": [
        "# 2-5 mean_squared_error 이용 => test set 에 대해 RMSE 구하기"
      ],
      "metadata": {
        "id": "r5a8y8aTUkAK"
      }
    },
    {
      "cell_type": "code",
      "source": [
        "X_test = strat_test_set.drop(\"burned_area\", axis=1)\n",
        "y_test = strat_test_set[\"burned_area\"].copy()\n",
        "X_test_prepared = full_pipeline.transform(X_test)"
      ],
      "metadata": {
        "id": "pm_b2uTKUnbI"
      },
      "execution_count": 39,
      "outputs": []
    },
    {
      "cell_type": "code",
      "source": [
        "# sgd\n",
        "sgd_scores = cross_val_score(sgd_reg, X_test_prepared, y_test, scoring=\"neg_mean_squared_error\", cv=10)\n",
        "sgd_rmse_scores = np.sqrt(-sgd_scores)\n",
        "print(\"\\nSGD Regression scores (test set): \\n\")\n",
        "display_scores(sgd_rmse_scores)"
      ],
      "metadata": {
        "id": "k5h8NxJ9UrQN",
        "colab": {
          "base_uri": "https://localhost:8080/"
        },
        "outputId": "27a9f6b5-7b1c-442b-aea1-2b23a0d38eea"
      },
      "execution_count": 40,
      "outputs": [
        {
          "output_type": "stream",
          "name": "stdout",
          "text": [
            "\n",
            "SGD Regression scores (test set): \n",
            "\n",
            "Scores: [0.55814268 0.37493112 0.33396046 0.15576133 0.42682731 0.53665518\n",
            " 0.57761627 0.33240995 0.17653796 0.2874125 ]\n",
            "Mean: 0.37602547711320244\n",
            "Standard deviation: 0.1421355169447432\n"
          ]
        }
      ]
    },
    {
      "cell_type": "code",
      "source": [
        "# svm\n",
        "svm_scores = cross_val_score(svm_reg, X_test_prepared, y_test, scoring=\"neg_mean_squared_error\", cv=10)\n",
        "svm_rmse_scores = np.sqrt(-svm_scores)\n",
        "print(\"\\nSVM Regression scores (test set): \\n\")\n",
        "display_scores(svm_rmse_scores)"
      ],
      "metadata": {
        "id": "0wxrPeP5Uxb3",
        "colab": {
          "base_uri": "https://localhost:8080/"
        },
        "outputId": "c15ec311-c865-464d-fcd1-76d5dbd76c1b"
      },
      "execution_count": 41,
      "outputs": [
        {
          "output_type": "stream",
          "name": "stdout",
          "text": [
            "\n",
            "SVM Regression scores (test set): \n",
            "\n",
            "Scores: [0.66911113 0.85290512 1.17915725 0.80038796 1.35047469 1.11624328\n",
            " 1.17407895 1.14017421 0.73443976 0.70563339]\n",
            "Mean: 0.9722605759766388\n",
            "Standard deviation: 0.23212994570107784\n"
          ]
        }
      ]
    },
    {
      "cell_type": "code",
      "source": [
        "# dt\n",
        "tree_scores = cross_val_score(sgd_reg, X_test_prepared, y_test, scoring=\"neg_mean_squared_error\", cv=10)\n",
        "tree_rmse_scores = np.sqrt(-tree_scores)\n",
        "print(\"\\nDT Regression scores (test set): \\n\")\n",
        "display_scores(tree_rmse_scores)"
      ],
      "metadata": {
        "id": "oPoqgTM0UzRy",
        "colab": {
          "base_uri": "https://localhost:8080/"
        },
        "outputId": "13721ae7-f2c9-4e48-becd-6065e5d06a5d"
      },
      "execution_count": 42,
      "outputs": [
        {
          "output_type": "stream",
          "name": "stdout",
          "text": [
            "\n",
            "DT Regression scores (test set): \n",
            "\n",
            "Scores: [0.55814268 0.37493112 0.33396046 0.15576133 0.42682731 0.53665518\n",
            " 0.57761627 0.33240995 0.17653796 0.2874125 ]\n",
            "Mean: 0.37602547711320244\n",
            "Standard deviation: 0.1421355169447432\n"
          ]
        }
      ]
    },
    {
      "cell_type": "code",
      "source": [
        "# rf\n",
        "forest_scores = cross_val_score(sgd_reg, X_test_prepared, y_test, scoring=\"neg_mean_squared_error\", cv=10)\n",
        "forest_rmse_scores = np.sqrt(-forest_scores)\n",
        "print(\"\\nRF Regression scores (test set): \\n\")\n",
        "display_scores(forest_rmse_scores)"
      ],
      "metadata": {
        "id": "PGda8Yi0U3OT",
        "colab": {
          "base_uri": "https://localhost:8080/"
        },
        "outputId": "c91d8037-2e81-47f8-b8d1-3b2d96d27dc6"
      },
      "execution_count": 43,
      "outputs": [
        {
          "output_type": "stream",
          "name": "stdout",
          "text": [
            "\n",
            "RF Regression scores (test set): \n",
            "\n",
            "Scores: [0.55814268 0.37493112 0.33396046 0.15576133 0.42682731 0.53665518\n",
            " 0.57761627 0.33240995 0.17653796 0.2874125 ]\n",
            "Mean: 0.37602547711320244\n",
            "Standard deviation: 0.1421355169447432\n"
          ]
        }
      ]
    },
    {
      "cell_type": "markdown",
      "source": [
        "# Keras model 개발"
      ],
      "metadata": {
        "id": "LM6-BodVU9sI"
      }
    },
    {
      "cell_type": "code",
      "source": [
        "import tensorflow as tf\n",
        "from tensorflow import keras\n",
        "\n",
        "X_train, X_valid, y_train, y_valid = train_test_split(fires_prepared, fires_labels, test_size=0.2, random_state=42)\n",
        "X_test = X_test_prepared\n",
        "y_test = y_test\n",
        "\n",
        "np.random.seed(42)\n",
        "tf.random.set_seed(42)\n",
        "\n",
        "model = keras.models.Sequential([\n",
        "    keras.layers.Dense(30, activation=\"relu\", input_shape=X_train.shape[1:]),\n",
        "    keras.layers.Dense(1)\n",
        "])\n",
        "model.compile(loss=\"mean_squared_error\", optimizer=keras.optimizers.SGD(lr=1e-3))\n",
        "\n",
        "history = model.fit(X_train, y_train, epochs=200, validation_data=(X_valid, y_valid))\n",
        "mse_test = model.evaluate(X_test, y_test)\n",
        "X_new = X_test[:10]\n",
        "y_pred = model.predict(X_new)"
      ],
      "metadata": {
        "id": "xYrxiutUXoR6",
        "colab": {
          "base_uri": "https://localhost:8080/"
        },
        "outputId": "c9c7aaeb-db82-4302-c846-e1fbb6445ffc"
      },
      "execution_count": 44,
      "outputs": [
        {
          "output_type": "stream",
          "name": "stdout",
          "text": [
            "Epoch 1/200\n"
          ]
        },
        {
          "output_type": "stream",
          "name": "stderr",
          "text": [
            "/usr/local/lib/python3.7/dist-packages/keras/optimizer_v2/gradient_descent.py:102: UserWarning: The `lr` argument is deprecated, use `learning_rate` instead.\n",
            "  super(SGD, self).__init__(name, **kwargs)\n"
          ]
        },
        {
          "output_type": "stream",
          "name": "stdout",
          "text": [
            "10/10 [==============================] - 3s 16ms/step - loss: 0.3047 - val_loss: 0.3163\n",
            "Epoch 2/200\n",
            "10/10 [==============================] - 0s 6ms/step - loss: 0.2862 - val_loss: 0.2996\n",
            "Epoch 3/200\n",
            "10/10 [==============================] - 0s 4ms/step - loss: 0.2713 - val_loss: 0.2851\n",
            "Epoch 4/200\n",
            "10/10 [==============================] - 0s 5ms/step - loss: 0.2582 - val_loss: 0.2724\n",
            "Epoch 5/200\n",
            "10/10 [==============================] - 0s 4ms/step - loss: 0.2468 - val_loss: 0.2608\n",
            "Epoch 6/200\n",
            "10/10 [==============================] - 0s 4ms/step - loss: 0.2364 - val_loss: 0.2499\n",
            "Epoch 7/200\n",
            "10/10 [==============================] - 0s 4ms/step - loss: 0.2267 - val_loss: 0.2429\n",
            "Epoch 8/200\n",
            "10/10 [==============================] - 0s 4ms/step - loss: 0.2205 - val_loss: 0.2343\n",
            "Epoch 9/200\n",
            "10/10 [==============================] - 0s 4ms/step - loss: 0.2129 - val_loss: 0.2272\n",
            "Epoch 10/200\n",
            "10/10 [==============================] - 0s 4ms/step - loss: 0.2065 - val_loss: 0.2215\n",
            "Epoch 11/200\n",
            "10/10 [==============================] - 0s 4ms/step - loss: 0.2013 - val_loss: 0.2141\n",
            "Epoch 12/200\n",
            "10/10 [==============================] - 0s 4ms/step - loss: 0.1945 - val_loss: 0.2083\n",
            "Epoch 13/200\n",
            "10/10 [==============================] - 0s 4ms/step - loss: 0.1894 - val_loss: 0.2018\n",
            "Epoch 14/200\n",
            "10/10 [==============================] - 0s 4ms/step - loss: 0.1838 - val_loss: 0.1972\n",
            "Epoch 15/200\n",
            "10/10 [==============================] - 0s 4ms/step - loss: 0.1797 - val_loss: 0.1934\n",
            "Epoch 16/200\n",
            "10/10 [==============================] - 0s 5ms/step - loss: 0.1762 - val_loss: 0.1897\n",
            "Epoch 17/200\n",
            "10/10 [==============================] - 0s 4ms/step - loss: 0.1729 - val_loss: 0.1854\n",
            "Epoch 18/200\n",
            "10/10 [==============================] - 0s 4ms/step - loss: 0.1691 - val_loss: 0.1818\n",
            "Epoch 19/200\n",
            "10/10 [==============================] - 0s 4ms/step - loss: 0.1659 - val_loss: 0.1777\n",
            "Epoch 20/200\n",
            "10/10 [==============================] - 0s 4ms/step - loss: 0.1626 - val_loss: 0.1747\n",
            "Epoch 21/200\n",
            "10/10 [==============================] - 0s 5ms/step - loss: 0.1600 - val_loss: 0.1725\n",
            "Epoch 22/200\n",
            "10/10 [==============================] - 0s 4ms/step - loss: 0.1579 - val_loss: 0.1704\n",
            "Epoch 23/200\n",
            "10/10 [==============================] - 0s 4ms/step - loss: 0.1560 - val_loss: 0.1678\n",
            "Epoch 24/200\n",
            "10/10 [==============================] - 0s 4ms/step - loss: 0.1536 - val_loss: 0.1658\n",
            "Epoch 25/200\n",
            "10/10 [==============================] - 0s 4ms/step - loss: 0.1517 - val_loss: 0.1642\n",
            "Epoch 26/200\n",
            "10/10 [==============================] - 0s 4ms/step - loss: 0.1502 - val_loss: 0.1619\n",
            "Epoch 27/200\n",
            "10/10 [==============================] - 0s 4ms/step - loss: 0.1482 - val_loss: 0.1604\n",
            "Epoch 28/200\n",
            "10/10 [==============================] - 0s 4ms/step - loss: 0.1468 - val_loss: 0.1589\n",
            "Epoch 29/200\n",
            "10/10 [==============================] - 0s 4ms/step - loss: 0.1455 - val_loss: 0.1575\n",
            "Epoch 30/200\n",
            "10/10 [==============================] - 0s 4ms/step - loss: 0.1441 - val_loss: 0.1561\n",
            "Epoch 31/200\n",
            "10/10 [==============================] - 0s 4ms/step - loss: 0.1429 - val_loss: 0.1550\n",
            "Epoch 32/200\n",
            "10/10 [==============================] - 0s 4ms/step - loss: 0.1418 - val_loss: 0.1538\n",
            "Epoch 33/200\n",
            "10/10 [==============================] - 0s 4ms/step - loss: 0.1406 - val_loss: 0.1524\n",
            "Epoch 34/200\n",
            "10/10 [==============================] - 0s 4ms/step - loss: 0.1394 - val_loss: 0.1514\n",
            "Epoch 35/200\n",
            "10/10 [==============================] - 0s 4ms/step - loss: 0.1384 - val_loss: 0.1502\n",
            "Epoch 36/200\n",
            "10/10 [==============================] - 0s 4ms/step - loss: 0.1374 - val_loss: 0.1493\n",
            "Epoch 37/200\n",
            "10/10 [==============================] - 0s 4ms/step - loss: 0.1366 - val_loss: 0.1485\n",
            "Epoch 38/200\n",
            "10/10 [==============================] - 0s 4ms/step - loss: 0.1358 - val_loss: 0.1475\n",
            "Epoch 39/200\n",
            "10/10 [==============================] - 0s 5ms/step - loss: 0.1349 - val_loss: 0.1467\n",
            "Epoch 40/200\n",
            "10/10 [==============================] - 0s 4ms/step - loss: 0.1341 - val_loss: 0.1456\n",
            "Epoch 41/200\n",
            "10/10 [==============================] - 0s 4ms/step - loss: 0.1331 - val_loss: 0.1443\n",
            "Epoch 42/200\n",
            "10/10 [==============================] - 0s 7ms/step - loss: 0.1322 - val_loss: 0.1435\n",
            "Epoch 43/200\n",
            "10/10 [==============================] - 0s 4ms/step - loss: 0.1313 - val_loss: 0.1428\n",
            "Epoch 44/200\n",
            "10/10 [==============================] - 0s 4ms/step - loss: 0.1307 - val_loss: 0.1420\n",
            "Epoch 45/200\n",
            "10/10 [==============================] - 0s 4ms/step - loss: 0.1299 - val_loss: 0.1413\n",
            "Epoch 46/200\n",
            "10/10 [==============================] - 0s 4ms/step - loss: 0.1291 - val_loss: 0.1405\n",
            "Epoch 47/200\n",
            "10/10 [==============================] - 0s 4ms/step - loss: 0.1283 - val_loss: 0.1398\n",
            "Epoch 48/200\n",
            "10/10 [==============================] - 0s 4ms/step - loss: 0.1277 - val_loss: 0.1392\n",
            "Epoch 49/200\n",
            "10/10 [==============================] - 0s 4ms/step - loss: 0.1271 - val_loss: 0.1386\n",
            "Epoch 50/200\n",
            "10/10 [==============================] - 0s 4ms/step - loss: 0.1266 - val_loss: 0.1380\n",
            "Epoch 51/200\n",
            "10/10 [==============================] - 0s 4ms/step - loss: 0.1260 - val_loss: 0.1374\n",
            "Epoch 52/200\n",
            "10/10 [==============================] - 0s 4ms/step - loss: 0.1254 - val_loss: 0.1368\n",
            "Epoch 53/200\n",
            "10/10 [==============================] - 0s 5ms/step - loss: 0.1248 - val_loss: 0.1362\n",
            "Epoch 54/200\n",
            "10/10 [==============================] - 0s 4ms/step - loss: 0.1242 - val_loss: 0.1356\n",
            "Epoch 55/200\n",
            "10/10 [==============================] - 0s 4ms/step - loss: 0.1237 - val_loss: 0.1350\n",
            "Epoch 56/200\n",
            "10/10 [==============================] - 0s 4ms/step - loss: 0.1230 - val_loss: 0.1345\n",
            "Epoch 57/200\n",
            "10/10 [==============================] - 0s 4ms/step - loss: 0.1225 - val_loss: 0.1339\n",
            "Epoch 58/200\n",
            "10/10 [==============================] - 0s 6ms/step - loss: 0.1219 - val_loss: 0.1334\n",
            "Epoch 59/200\n",
            "10/10 [==============================] - 0s 4ms/step - loss: 0.1215 - val_loss: 0.1327\n",
            "Epoch 60/200\n",
            "10/10 [==============================] - 0s 4ms/step - loss: 0.1209 - val_loss: 0.1323\n",
            "Epoch 61/200\n",
            "10/10 [==============================] - 0s 4ms/step - loss: 0.1205 - val_loss: 0.1318\n",
            "Epoch 62/200\n",
            "10/10 [==============================] - 0s 5ms/step - loss: 0.1200 - val_loss: 0.1313\n",
            "Epoch 63/200\n",
            "10/10 [==============================] - 0s 4ms/step - loss: 0.1195 - val_loss: 0.1308\n",
            "Epoch 64/200\n",
            "10/10 [==============================] - 0s 4ms/step - loss: 0.1191 - val_loss: 0.1303\n",
            "Epoch 65/200\n",
            "10/10 [==============================] - 0s 5ms/step - loss: 0.1186 - val_loss: 0.1299\n",
            "Epoch 66/200\n",
            "10/10 [==============================] - 0s 4ms/step - loss: 0.1182 - val_loss: 0.1294\n",
            "Epoch 67/200\n",
            "10/10 [==============================] - 0s 4ms/step - loss: 0.1177 - val_loss: 0.1289\n",
            "Epoch 68/200\n",
            "10/10 [==============================] - 0s 4ms/step - loss: 0.1173 - val_loss: 0.1285\n",
            "Epoch 69/200\n",
            "10/10 [==============================] - 0s 4ms/step - loss: 0.1168 - val_loss: 0.1281\n",
            "Epoch 70/200\n",
            "10/10 [==============================] - 0s 4ms/step - loss: 0.1165 - val_loss: 0.1276\n",
            "Epoch 71/200\n",
            "10/10 [==============================] - 0s 5ms/step - loss: 0.1160 - val_loss: 0.1272\n",
            "Epoch 72/200\n",
            "10/10 [==============================] - 0s 4ms/step - loss: 0.1155 - val_loss: 0.1266\n",
            "Epoch 73/200\n",
            "10/10 [==============================] - 0s 4ms/step - loss: 0.1150 - val_loss: 0.1262\n",
            "Epoch 74/200\n",
            "10/10 [==============================] - 0s 4ms/step - loss: 0.1147 - val_loss: 0.1258\n",
            "Epoch 75/200\n",
            "10/10 [==============================] - 0s 4ms/step - loss: 0.1143 - val_loss: 0.1254\n",
            "Epoch 76/200\n",
            "10/10 [==============================] - 0s 6ms/step - loss: 0.1140 - val_loss: 0.1251\n",
            "Epoch 77/200\n",
            "10/10 [==============================] - 0s 4ms/step - loss: 0.1136 - val_loss: 0.1247\n",
            "Epoch 78/200\n",
            "10/10 [==============================] - 0s 4ms/step - loss: 0.1133 - val_loss: 0.1243\n",
            "Epoch 79/200\n",
            "10/10 [==============================] - 0s 4ms/step - loss: 0.1129 - val_loss: 0.1240\n",
            "Epoch 80/200\n",
            "10/10 [==============================] - 0s 4ms/step - loss: 0.1126 - val_loss: 0.1236\n",
            "Epoch 81/200\n",
            "10/10 [==============================] - 0s 4ms/step - loss: 0.1122 - val_loss: 0.1233\n",
            "Epoch 82/200\n",
            "10/10 [==============================] - 0s 4ms/step - loss: 0.1120 - val_loss: 0.1229\n",
            "Epoch 83/200\n",
            "10/10 [==============================] - 0s 5ms/step - loss: 0.1116 - val_loss: 0.1225\n",
            "Epoch 84/200\n",
            "10/10 [==============================] - 0s 6ms/step - loss: 0.1113 - val_loss: 0.1221\n",
            "Epoch 85/200\n",
            "10/10 [==============================] - 0s 4ms/step - loss: 0.1110 - val_loss: 0.1218\n",
            "Epoch 86/200\n",
            "10/10 [==============================] - 0s 4ms/step - loss: 0.1107 - val_loss: 0.1215\n",
            "Epoch 87/200\n",
            "10/10 [==============================] - 0s 4ms/step - loss: 0.1103 - val_loss: 0.1212\n",
            "Epoch 88/200\n",
            "10/10 [==============================] - 0s 4ms/step - loss: 0.1100 - val_loss: 0.1209\n",
            "Epoch 89/200\n",
            "10/10 [==============================] - 0s 6ms/step - loss: 0.1097 - val_loss: 0.1206\n",
            "Epoch 90/200\n",
            "10/10 [==============================] - 0s 4ms/step - loss: 0.1094 - val_loss: 0.1202\n",
            "Epoch 91/200\n",
            "10/10 [==============================] - 0s 4ms/step - loss: 0.1090 - val_loss: 0.1199\n",
            "Epoch 92/200\n",
            "10/10 [==============================] - 0s 4ms/step - loss: 0.1087 - val_loss: 0.1195\n",
            "Epoch 93/200\n",
            "10/10 [==============================] - 0s 4ms/step - loss: 0.1084 - val_loss: 0.1192\n",
            "Epoch 94/200\n",
            "10/10 [==============================] - 0s 6ms/step - loss: 0.1082 - val_loss: 0.1189\n",
            "Epoch 95/200\n",
            "10/10 [==============================] - 0s 6ms/step - loss: 0.1078 - val_loss: 0.1186\n",
            "Epoch 96/200\n",
            "10/10 [==============================] - 0s 6ms/step - loss: 0.1076 - val_loss: 0.1183\n",
            "Epoch 97/200\n",
            "10/10 [==============================] - 0s 4ms/step - loss: 0.1073 - val_loss: 0.1180\n",
            "Epoch 98/200\n",
            "10/10 [==============================] - 0s 4ms/step - loss: 0.1070 - val_loss: 0.1177\n",
            "Epoch 99/200\n",
            "10/10 [==============================] - 0s 4ms/step - loss: 0.1067 - val_loss: 0.1174\n",
            "Epoch 100/200\n",
            "10/10 [==============================] - 0s 4ms/step - loss: 0.1064 - val_loss: 0.1170\n",
            "Epoch 101/200\n",
            "10/10 [==============================] - 0s 4ms/step - loss: 0.1062 - val_loss: 0.1167\n",
            "Epoch 102/200\n",
            "10/10 [==============================] - 0s 5ms/step - loss: 0.1059 - val_loss: 0.1165\n",
            "Epoch 103/200\n",
            "10/10 [==============================] - 0s 4ms/step - loss: 0.1056 - val_loss: 0.1163\n",
            "Epoch 104/200\n",
            "10/10 [==============================] - 0s 5ms/step - loss: 0.1054 - val_loss: 0.1161\n",
            "Epoch 105/200\n",
            "10/10 [==============================] - 0s 4ms/step - loss: 0.1052 - val_loss: 0.1158\n",
            "Epoch 106/200\n",
            "10/10 [==============================] - 0s 4ms/step - loss: 0.1049 - val_loss: 0.1156\n",
            "Epoch 107/200\n",
            "10/10 [==============================] - 0s 4ms/step - loss: 0.1047 - val_loss: 0.1153\n",
            "Epoch 108/200\n",
            "10/10 [==============================] - 0s 4ms/step - loss: 0.1044 - val_loss: 0.1150\n",
            "Epoch 109/200\n",
            "10/10 [==============================] - 0s 5ms/step - loss: 0.1041 - val_loss: 0.1148\n",
            "Epoch 110/200\n",
            "10/10 [==============================] - 0s 4ms/step - loss: 0.1039 - val_loss: 0.1145\n",
            "Epoch 111/200\n",
            "10/10 [==============================] - 0s 4ms/step - loss: 0.1037 - val_loss: 0.1143\n",
            "Epoch 112/200\n",
            "10/10 [==============================] - 0s 6ms/step - loss: 0.1034 - val_loss: 0.1141\n",
            "Epoch 113/200\n",
            "10/10 [==============================] - 0s 6ms/step - loss: 0.1032 - val_loss: 0.1138\n",
            "Epoch 114/200\n",
            "10/10 [==============================] - 0s 4ms/step - loss: 0.1030 - val_loss: 0.1135\n",
            "Epoch 115/200\n",
            "10/10 [==============================] - 0s 4ms/step - loss: 0.1028 - val_loss: 0.1132\n",
            "Epoch 116/200\n",
            "10/10 [==============================] - 0s 4ms/step - loss: 0.1025 - val_loss: 0.1130\n",
            "Epoch 117/200\n",
            "10/10 [==============================] - 0s 4ms/step - loss: 0.1023 - val_loss: 0.1128\n",
            "Epoch 118/200\n",
            "10/10 [==============================] - 0s 4ms/step - loss: 0.1021 - val_loss: 0.1125\n",
            "Epoch 119/200\n",
            "10/10 [==============================] - 0s 4ms/step - loss: 0.1019 - val_loss: 0.1121\n",
            "Epoch 120/200\n",
            "10/10 [==============================] - 0s 4ms/step - loss: 0.1016 - val_loss: 0.1119\n",
            "Epoch 121/200\n",
            "10/10 [==============================] - 0s 4ms/step - loss: 0.1014 - val_loss: 0.1117\n",
            "Epoch 122/200\n",
            "10/10 [==============================] - 0s 5ms/step - loss: 0.1012 - val_loss: 0.1115\n",
            "Epoch 123/200\n",
            "10/10 [==============================] - 0s 4ms/step - loss: 0.1010 - val_loss: 0.1112\n",
            "Epoch 124/200\n",
            "10/10 [==============================] - 0s 4ms/step - loss: 0.1008 - val_loss: 0.1110\n",
            "Epoch 125/200\n",
            "10/10 [==============================] - 0s 4ms/step - loss: 0.1006 - val_loss: 0.1108\n",
            "Epoch 126/200\n",
            "10/10 [==============================] - 0s 4ms/step - loss: 0.1004 - val_loss: 0.1106\n",
            "Epoch 127/200\n",
            "10/10 [==============================] - 0s 4ms/step - loss: 0.1002 - val_loss: 0.1104\n",
            "Epoch 128/200\n",
            "10/10 [==============================] - 0s 4ms/step - loss: 0.1000 - val_loss: 0.1102\n",
            "Epoch 129/200\n",
            "10/10 [==============================] - 0s 4ms/step - loss: 0.0998 - val_loss: 0.1100\n",
            "Epoch 130/200\n",
            "10/10 [==============================] - 0s 4ms/step - loss: 0.0996 - val_loss: 0.1098\n",
            "Epoch 131/200\n",
            "10/10 [==============================] - 0s 4ms/step - loss: 0.0994 - val_loss: 0.1096\n",
            "Epoch 132/200\n",
            "10/10 [==============================] - 0s 4ms/step - loss: 0.0992 - val_loss: 0.1093\n",
            "Epoch 133/200\n",
            "10/10 [==============================] - 0s 4ms/step - loss: 0.0990 - val_loss: 0.1091\n",
            "Epoch 134/200\n",
            "10/10 [==============================] - 0s 4ms/step - loss: 0.0988 - val_loss: 0.1089\n",
            "Epoch 135/200\n",
            "10/10 [==============================] - 0s 5ms/step - loss: 0.0986 - val_loss: 0.1087\n",
            "Epoch 136/200\n",
            "10/10 [==============================] - 0s 4ms/step - loss: 0.0984 - val_loss: 0.1085\n",
            "Epoch 137/200\n",
            "10/10 [==============================] - 0s 5ms/step - loss: 0.0982 - val_loss: 0.1083\n",
            "Epoch 138/200\n",
            "10/10 [==============================] - 0s 6ms/step - loss: 0.0980 - val_loss: 0.1081\n",
            "Epoch 139/200\n",
            "10/10 [==============================] - 0s 4ms/step - loss: 0.0978 - val_loss: 0.1079\n",
            "Epoch 140/200\n",
            "10/10 [==============================] - 0s 4ms/step - loss: 0.0976 - val_loss: 0.1076\n",
            "Epoch 141/200\n",
            "10/10 [==============================] - 0s 4ms/step - loss: 0.0975 - val_loss: 0.1074\n",
            "Epoch 142/200\n",
            "10/10 [==============================] - 0s 5ms/step - loss: 0.0973 - val_loss: 0.1072\n",
            "Epoch 143/200\n",
            "10/10 [==============================] - 0s 4ms/step - loss: 0.0971 - val_loss: 0.1070\n",
            "Epoch 144/200\n",
            "10/10 [==============================] - 0s 4ms/step - loss: 0.0969 - val_loss: 0.1068\n",
            "Epoch 145/200\n",
            "10/10 [==============================] - 0s 4ms/step - loss: 0.0968 - val_loss: 0.1066\n",
            "Epoch 146/200\n",
            "10/10 [==============================] - 0s 4ms/step - loss: 0.0966 - val_loss: 0.1064\n",
            "Epoch 147/200\n",
            "10/10 [==============================] - 0s 4ms/step - loss: 0.0964 - val_loss: 0.1062\n",
            "Epoch 148/200\n",
            "10/10 [==============================] - 0s 4ms/step - loss: 0.0962 - val_loss: 0.1061\n",
            "Epoch 149/200\n",
            "10/10 [==============================] - 0s 4ms/step - loss: 0.0961 - val_loss: 0.1059\n",
            "Epoch 150/200\n",
            "10/10 [==============================] - 0s 4ms/step - loss: 0.0959 - val_loss: 0.1057\n",
            "Epoch 151/200\n",
            "10/10 [==============================] - 0s 4ms/step - loss: 0.0957 - val_loss: 0.1056\n",
            "Epoch 152/200\n",
            "10/10 [==============================] - 0s 4ms/step - loss: 0.0955 - val_loss: 0.1054\n",
            "Epoch 153/200\n",
            "10/10 [==============================] - 0s 4ms/step - loss: 0.0954 - val_loss: 0.1052\n",
            "Epoch 154/200\n",
            "10/10 [==============================] - 0s 4ms/step - loss: 0.0952 - val_loss: 0.1051\n",
            "Epoch 155/200\n",
            "10/10 [==============================] - 0s 5ms/step - loss: 0.0950 - val_loss: 0.1049\n",
            "Epoch 156/200\n",
            "10/10 [==============================] - 0s 4ms/step - loss: 0.0949 - val_loss: 0.1048\n",
            "Epoch 157/200\n",
            "10/10 [==============================] - 0s 4ms/step - loss: 0.0947 - val_loss: 0.1047\n",
            "Epoch 158/200\n",
            "10/10 [==============================] - 0s 4ms/step - loss: 0.0946 - val_loss: 0.1045\n",
            "Epoch 159/200\n",
            "10/10 [==============================] - 0s 4ms/step - loss: 0.0944 - val_loss: 0.1043\n",
            "Epoch 160/200\n",
            "10/10 [==============================] - 0s 5ms/step - loss: 0.0942 - val_loss: 0.1042\n",
            "Epoch 161/200\n",
            "10/10 [==============================] - 0s 4ms/step - loss: 0.0941 - val_loss: 0.1039\n",
            "Epoch 162/200\n",
            "10/10 [==============================] - 0s 5ms/step - loss: 0.0939 - val_loss: 0.1038\n",
            "Epoch 163/200\n",
            "10/10 [==============================] - 0s 4ms/step - loss: 0.0938 - val_loss: 0.1036\n",
            "Epoch 164/200\n",
            "10/10 [==============================] - 0s 4ms/step - loss: 0.0936 - val_loss: 0.1034\n",
            "Epoch 165/200\n",
            "10/10 [==============================] - 0s 4ms/step - loss: 0.0935 - val_loss: 0.1033\n",
            "Epoch 166/200\n",
            "10/10 [==============================] - 0s 5ms/step - loss: 0.0933 - val_loss: 0.1031\n",
            "Epoch 167/200\n",
            "10/10 [==============================] - 0s 7ms/step - loss: 0.0932 - val_loss: 0.1029\n",
            "Epoch 168/200\n",
            "10/10 [==============================] - 0s 5ms/step - loss: 0.0930 - val_loss: 0.1028\n",
            "Epoch 169/200\n",
            "10/10 [==============================] - 0s 4ms/step - loss: 0.0928 - val_loss: 0.1026\n",
            "Epoch 170/200\n",
            "10/10 [==============================] - 0s 5ms/step - loss: 0.0927 - val_loss: 0.1025\n",
            "Epoch 171/200\n",
            "10/10 [==============================] - 0s 4ms/step - loss: 0.0925 - val_loss: 0.1024\n",
            "Epoch 172/200\n",
            "10/10 [==============================] - 0s 4ms/step - loss: 0.0923 - val_loss: 0.1021\n",
            "Epoch 173/200\n",
            "10/10 [==============================] - 0s 4ms/step - loss: 0.0922 - val_loss: 0.1019\n",
            "Epoch 174/200\n",
            "10/10 [==============================] - 0s 6ms/step - loss: 0.0920 - val_loss: 0.1018\n",
            "Epoch 175/200\n",
            "10/10 [==============================] - 0s 4ms/step - loss: 0.0919 - val_loss: 0.1016\n",
            "Epoch 176/200\n",
            "10/10 [==============================] - 0s 4ms/step - loss: 0.0918 - val_loss: 0.1015\n",
            "Epoch 177/200\n",
            "10/10 [==============================] - 0s 6ms/step - loss: 0.0916 - val_loss: 0.1013\n",
            "Epoch 178/200\n",
            "10/10 [==============================] - 0s 4ms/step - loss: 0.0915 - val_loss: 0.1011\n",
            "Epoch 179/200\n",
            "10/10 [==============================] - 0s 4ms/step - loss: 0.0913 - val_loss: 0.1010\n",
            "Epoch 180/200\n",
            "10/10 [==============================] - 0s 5ms/step - loss: 0.0912 - val_loss: 0.1008\n",
            "Epoch 181/200\n",
            "10/10 [==============================] - 0s 5ms/step - loss: 0.0911 - val_loss: 0.1007\n",
            "Epoch 182/200\n",
            "10/10 [==============================] - 0s 5ms/step - loss: 0.0910 - val_loss: 0.1006\n",
            "Epoch 183/200\n",
            "10/10 [==============================] - 0s 4ms/step - loss: 0.0909 - val_loss: 0.1004\n",
            "Epoch 184/200\n",
            "10/10 [==============================] - 0s 4ms/step - loss: 0.0907 - val_loss: 0.1003\n",
            "Epoch 185/200\n",
            "10/10 [==============================] - 0s 4ms/step - loss: 0.0906 - val_loss: 0.1002\n",
            "Epoch 186/200\n",
            "10/10 [==============================] - 0s 4ms/step - loss: 0.0904 - val_loss: 0.1001\n",
            "Epoch 187/200\n",
            "10/10 [==============================] - 0s 4ms/step - loss: 0.0903 - val_loss: 0.1000\n",
            "Epoch 188/200\n",
            "10/10 [==============================] - 0s 4ms/step - loss: 0.0902 - val_loss: 0.0998\n",
            "Epoch 189/200\n",
            "10/10 [==============================] - 0s 6ms/step - loss: 0.0900 - val_loss: 0.0996\n",
            "Epoch 190/200\n",
            "10/10 [==============================] - 0s 6ms/step - loss: 0.0899 - val_loss: 0.0995\n",
            "Epoch 191/200\n",
            "10/10 [==============================] - 0s 4ms/step - loss: 0.0898 - val_loss: 0.0994\n",
            "Epoch 192/200\n",
            "10/10 [==============================] - 0s 5ms/step - loss: 0.0896 - val_loss: 0.0992\n",
            "Epoch 193/200\n",
            "10/10 [==============================] - 0s 4ms/step - loss: 0.0895 - val_loss: 0.0991\n",
            "Epoch 194/200\n",
            "10/10 [==============================] - 0s 6ms/step - loss: 0.0892 - val_loss: 0.0990\n",
            "Epoch 195/200\n",
            "10/10 [==============================] - 0s 6ms/step - loss: 0.0891 - val_loss: 0.0988\n",
            "Epoch 196/200\n",
            "10/10 [==============================] - 0s 4ms/step - loss: 0.0890 - val_loss: 0.0987\n",
            "Epoch 197/200\n",
            "10/10 [==============================] - 0s 4ms/step - loss: 0.0889 - val_loss: 0.0985\n",
            "Epoch 198/200\n",
            "10/10 [==============================] - 0s 4ms/step - loss: 0.0888 - val_loss: 0.0984\n",
            "Epoch 199/200\n",
            "10/10 [==============================] - 0s 5ms/step - loss: 0.0886 - val_loss: 0.0982\n",
            "Epoch 200/200\n",
            "10/10 [==============================] - 0s 5ms/step - loss: 0.0885 - val_loss: 0.0981\n",
            "3/3 [==============================] - 0s 4ms/step - loss: 0.1589\n"
          ]
        }
      ]
    },
    {
      "cell_type": "code",
      "source": [
        "# Learning curves: train set (blue line), validation set (orange line)\n",
        "history = model.fit(X_train, y_train, epochs=200, validation_data=(X_valid, y_valid))\n",
        "mse_test = model.evaluate(X_test, y_test)\n",
        "X_new = X_test[:10]\n",
        "y_pred = model.predict(X_new)\n",
        "plt.plot(pd.DataFrame(history.history))\n",
        "plt.grid(True)\n",
        "plt.gca().set_ylim(0, 1)\n",
        "print(\"learning curves\")\n",
        "plt.show()"
      ],
      "metadata": {
        "id": "Y-if4F3uXsaE",
        "colab": {
          "base_uri": "https://localhost:8080/",
          "height": 1000
        },
        "outputId": "11a5bd07-4d25-4b47-9791-4a61f5131e6f"
      },
      "execution_count": 45,
      "outputs": [
        {
          "output_type": "stream",
          "name": "stdout",
          "text": [
            "Epoch 1/200\n",
            "10/10 [==============================] - 0s 7ms/step - loss: 0.0884 - val_loss: 0.0979\n",
            "Epoch 2/200\n",
            "10/10 [==============================] - 0s 4ms/step - loss: 0.0883 - val_loss: 0.0978\n",
            "Epoch 3/200\n",
            "10/10 [==============================] - 0s 4ms/step - loss: 0.0881 - val_loss: 0.0977\n",
            "Epoch 4/200\n",
            "10/10 [==============================] - 0s 4ms/step - loss: 0.0880 - val_loss: 0.0976\n",
            "Epoch 5/200\n",
            "10/10 [==============================] - 0s 4ms/step - loss: 0.0879 - val_loss: 0.0974\n",
            "Epoch 6/200\n",
            "10/10 [==============================] - 0s 4ms/step - loss: 0.0878 - val_loss: 0.0973\n",
            "Epoch 7/200\n",
            "10/10 [==============================] - 0s 4ms/step - loss: 0.0876 - val_loss: 0.0971\n",
            "Epoch 8/200\n",
            "10/10 [==============================] - 0s 4ms/step - loss: 0.0875 - val_loss: 0.0969\n",
            "Epoch 9/200\n",
            "10/10 [==============================] - 0s 4ms/step - loss: 0.0874 - val_loss: 0.0968\n",
            "Epoch 10/200\n",
            "10/10 [==============================] - 0s 6ms/step - loss: 0.0872 - val_loss: 0.0967\n",
            "Epoch 11/200\n",
            "10/10 [==============================] - 0s 6ms/step - loss: 0.0871 - val_loss: 0.0965\n",
            "Epoch 12/200\n",
            "10/10 [==============================] - 0s 4ms/step - loss: 0.0869 - val_loss: 0.0964\n",
            "Epoch 13/200\n",
            "10/10 [==============================] - 0s 6ms/step - loss: 0.0868 - val_loss: 0.0961\n",
            "Epoch 14/200\n",
            "10/10 [==============================] - 0s 4ms/step - loss: 0.0867 - val_loss: 0.0960\n",
            "Epoch 15/200\n",
            "10/10 [==============================] - 0s 5ms/step - loss: 0.0866 - val_loss: 0.0959\n",
            "Epoch 16/200\n",
            "10/10 [==============================] - 0s 4ms/step - loss: 0.0865 - val_loss: 0.0958\n",
            "Epoch 17/200\n",
            "10/10 [==============================] - 0s 4ms/step - loss: 0.0864 - val_loss: 0.0957\n",
            "Epoch 18/200\n",
            "10/10 [==============================] - 0s 5ms/step - loss: 0.0863 - val_loss: 0.0956\n",
            "Epoch 19/200\n",
            "10/10 [==============================] - 0s 6ms/step - loss: 0.0861 - val_loss: 0.0953\n",
            "Epoch 20/200\n",
            "10/10 [==============================] - 0s 4ms/step - loss: 0.0860 - val_loss: 0.0952\n",
            "Epoch 21/200\n",
            "10/10 [==============================] - 0s 4ms/step - loss: 0.0859 - val_loss: 0.0951\n",
            "Epoch 22/200\n",
            "10/10 [==============================] - 0s 4ms/step - loss: 0.0858 - val_loss: 0.0950\n",
            "Epoch 23/200\n",
            "10/10 [==============================] - 0s 4ms/step - loss: 0.0857 - val_loss: 0.0949\n",
            "Epoch 24/200\n",
            "10/10 [==============================] - 0s 4ms/step - loss: 0.0856 - val_loss: 0.0948\n",
            "Epoch 25/200\n",
            "10/10 [==============================] - 0s 4ms/step - loss: 0.0855 - val_loss: 0.0947\n",
            "Epoch 26/200\n",
            "10/10 [==============================] - 0s 4ms/step - loss: 0.0854 - val_loss: 0.0946\n",
            "Epoch 27/200\n",
            "10/10 [==============================] - 0s 4ms/step - loss: 0.0852 - val_loss: 0.0945\n",
            "Epoch 28/200\n",
            "10/10 [==============================] - 0s 4ms/step - loss: 0.0851 - val_loss: 0.0944\n",
            "Epoch 29/200\n",
            "10/10 [==============================] - 0s 4ms/step - loss: 0.0850 - val_loss: 0.0943\n",
            "Epoch 30/200\n",
            "10/10 [==============================] - 0s 4ms/step - loss: 0.0849 - val_loss: 0.0942\n",
            "Epoch 31/200\n",
            "10/10 [==============================] - 0s 4ms/step - loss: 0.0848 - val_loss: 0.0941\n",
            "Epoch 32/200\n",
            "10/10 [==============================] - 0s 4ms/step - loss: 0.0847 - val_loss: 0.0940\n",
            "Epoch 33/200\n",
            "10/10 [==============================] - 0s 4ms/step - loss: 0.0846 - val_loss: 0.0938\n",
            "Epoch 34/200\n",
            "10/10 [==============================] - 0s 4ms/step - loss: 0.0845 - val_loss: 0.0936\n",
            "Epoch 35/200\n",
            "10/10 [==============================] - 0s 4ms/step - loss: 0.0844 - val_loss: 0.0935\n",
            "Epoch 36/200\n",
            "10/10 [==============================] - 0s 5ms/step - loss: 0.0843 - val_loss: 0.0933\n",
            "Epoch 37/200\n",
            "10/10 [==============================] - 0s 4ms/step - loss: 0.0842 - val_loss: 0.0933\n",
            "Epoch 38/200\n",
            "10/10 [==============================] - 0s 4ms/step - loss: 0.0841 - val_loss: 0.0931\n",
            "Epoch 39/200\n",
            "10/10 [==============================] - 0s 5ms/step - loss: 0.0840 - val_loss: 0.0931\n",
            "Epoch 40/200\n",
            "10/10 [==============================] - 0s 4ms/step - loss: 0.0839 - val_loss: 0.0929\n",
            "Epoch 41/200\n",
            "10/10 [==============================] - 0s 4ms/step - loss: 0.0838 - val_loss: 0.0927\n",
            "Epoch 42/200\n",
            "10/10 [==============================] - 0s 5ms/step - loss: 0.0837 - val_loss: 0.0926\n",
            "Epoch 43/200\n",
            "10/10 [==============================] - 0s 6ms/step - loss: 0.0836 - val_loss: 0.0925\n",
            "Epoch 44/200\n",
            "10/10 [==============================] - 0s 4ms/step - loss: 0.0835 - val_loss: 0.0924\n",
            "Epoch 45/200\n",
            "10/10 [==============================] - 0s 4ms/step - loss: 0.0834 - val_loss: 0.0923\n",
            "Epoch 46/200\n",
            "10/10 [==============================] - 0s 6ms/step - loss: 0.0833 - val_loss: 0.0922\n",
            "Epoch 47/200\n",
            "10/10 [==============================] - 0s 4ms/step - loss: 0.0833 - val_loss: 0.0921\n",
            "Epoch 48/200\n",
            "10/10 [==============================] - 0s 4ms/step - loss: 0.0831 - val_loss: 0.0920\n",
            "Epoch 49/200\n",
            "10/10 [==============================] - 0s 5ms/step - loss: 0.0831 - val_loss: 0.0919\n",
            "Epoch 50/200\n",
            "10/10 [==============================] - 0s 4ms/step - loss: 0.0830 - val_loss: 0.0918\n",
            "Epoch 51/200\n",
            "10/10 [==============================] - 0s 4ms/step - loss: 0.0829 - val_loss: 0.0917\n",
            "Epoch 52/200\n",
            "10/10 [==============================] - 0s 4ms/step - loss: 0.0828 - val_loss: 0.0916\n",
            "Epoch 53/200\n",
            "10/10 [==============================] - 0s 6ms/step - loss: 0.0826 - val_loss: 0.0915\n",
            "Epoch 54/200\n",
            "10/10 [==============================] - 0s 5ms/step - loss: 0.0825 - val_loss: 0.0914\n",
            "Epoch 55/200\n",
            "10/10 [==============================] - 0s 4ms/step - loss: 0.0824 - val_loss: 0.0913\n",
            "Epoch 56/200\n",
            "10/10 [==============================] - 0s 5ms/step - loss: 0.0823 - val_loss: 0.0912\n",
            "Epoch 57/200\n",
            "10/10 [==============================] - 0s 4ms/step - loss: 0.0822 - val_loss: 0.0911\n",
            "Epoch 58/200\n",
            "10/10 [==============================] - 0s 4ms/step - loss: 0.0821 - val_loss: 0.0910\n",
            "Epoch 59/200\n",
            "10/10 [==============================] - 0s 4ms/step - loss: 0.0821 - val_loss: 0.0909\n",
            "Epoch 60/200\n",
            "10/10 [==============================] - 0s 4ms/step - loss: 0.0820 - val_loss: 0.0908\n",
            "Epoch 61/200\n",
            "10/10 [==============================] - 0s 4ms/step - loss: 0.0819 - val_loss: 0.0906\n",
            "Epoch 62/200\n",
            "10/10 [==============================] - 0s 4ms/step - loss: 0.0818 - val_loss: 0.0905\n",
            "Epoch 63/200\n",
            "10/10 [==============================] - 0s 6ms/step - loss: 0.0817 - val_loss: 0.0904\n",
            "Epoch 64/200\n",
            "10/10 [==============================] - 0s 5ms/step - loss: 0.0816 - val_loss: 0.0903\n",
            "Epoch 65/200\n",
            "10/10 [==============================] - 0s 4ms/step - loss: 0.0815 - val_loss: 0.0902\n",
            "Epoch 66/200\n",
            "10/10 [==============================] - 0s 4ms/step - loss: 0.0814 - val_loss: 0.0901\n",
            "Epoch 67/200\n",
            "10/10 [==============================] - 0s 4ms/step - loss: 0.0813 - val_loss: 0.0900\n",
            "Epoch 68/200\n",
            "10/10 [==============================] - 0s 4ms/step - loss: 0.0812 - val_loss: 0.0899\n",
            "Epoch 69/200\n",
            "10/10 [==============================] - 0s 4ms/step - loss: 0.0811 - val_loss: 0.0898\n",
            "Epoch 70/200\n",
            "10/10 [==============================] - 0s 4ms/step - loss: 0.0811 - val_loss: 0.0897\n",
            "Epoch 71/200\n",
            "10/10 [==============================] - 0s 4ms/step - loss: 0.0810 - val_loss: 0.0897\n",
            "Epoch 72/200\n",
            "10/10 [==============================] - 0s 6ms/step - loss: 0.0809 - val_loss: 0.0895\n",
            "Epoch 73/200\n",
            "10/10 [==============================] - 0s 4ms/step - loss: 0.0808 - val_loss: 0.0894\n",
            "Epoch 74/200\n",
            "10/10 [==============================] - 0s 4ms/step - loss: 0.0807 - val_loss: 0.0893\n",
            "Epoch 75/200\n",
            "10/10 [==============================] - 0s 4ms/step - loss: 0.0806 - val_loss: 0.0892\n",
            "Epoch 76/200\n",
            "10/10 [==============================] - 0s 5ms/step - loss: 0.0805 - val_loss: 0.0891\n",
            "Epoch 77/200\n",
            "10/10 [==============================] - 0s 4ms/step - loss: 0.0805 - val_loss: 0.0890\n",
            "Epoch 78/200\n",
            "10/10 [==============================] - 0s 5ms/step - loss: 0.0804 - val_loss: 0.0890\n",
            "Epoch 79/200\n",
            "10/10 [==============================] - 0s 5ms/step - loss: 0.0803 - val_loss: 0.0889\n",
            "Epoch 80/200\n",
            "10/10 [==============================] - 0s 5ms/step - loss: 0.0802 - val_loss: 0.0888\n",
            "Epoch 81/200\n",
            "10/10 [==============================] - 0s 5ms/step - loss: 0.0801 - val_loss: 0.0887\n",
            "Epoch 82/200\n",
            "10/10 [==============================] - 0s 5ms/step - loss: 0.0801 - val_loss: 0.0886\n",
            "Epoch 83/200\n",
            "10/10 [==============================] - 0s 4ms/step - loss: 0.0800 - val_loss: 0.0885\n",
            "Epoch 84/200\n",
            "10/10 [==============================] - 0s 4ms/step - loss: 0.0799 - val_loss: 0.0884\n",
            "Epoch 85/200\n",
            "10/10 [==============================] - 0s 6ms/step - loss: 0.0798 - val_loss: 0.0884\n",
            "Epoch 86/200\n",
            "10/10 [==============================] - 0s 4ms/step - loss: 0.0797 - val_loss: 0.0883\n",
            "Epoch 87/200\n",
            "10/10 [==============================] - 0s 4ms/step - loss: 0.0796 - val_loss: 0.0882\n",
            "Epoch 88/200\n",
            "10/10 [==============================] - 0s 4ms/step - loss: 0.0796 - val_loss: 0.0882\n",
            "Epoch 89/200\n",
            "10/10 [==============================] - 0s 6ms/step - loss: 0.0795 - val_loss: 0.0881\n",
            "Epoch 90/200\n",
            "10/10 [==============================] - 0s 4ms/step - loss: 0.0794 - val_loss: 0.0880\n",
            "Epoch 91/200\n",
            "10/10 [==============================] - 0s 4ms/step - loss: 0.0793 - val_loss: 0.0880\n",
            "Epoch 92/200\n",
            "10/10 [==============================] - 0s 4ms/step - loss: 0.0792 - val_loss: 0.0878\n",
            "Epoch 93/200\n",
            "10/10 [==============================] - 0s 4ms/step - loss: 0.0791 - val_loss: 0.0877\n",
            "Epoch 94/200\n",
            "10/10 [==============================] - 0s 5ms/step - loss: 0.0790 - val_loss: 0.0876\n",
            "Epoch 95/200\n",
            "10/10 [==============================] - 0s 4ms/step - loss: 0.0790 - val_loss: 0.0875\n",
            "Epoch 96/200\n",
            "10/10 [==============================] - 0s 5ms/step - loss: 0.0789 - val_loss: 0.0874\n",
            "Epoch 97/200\n",
            "10/10 [==============================] - 0s 5ms/step - loss: 0.0788 - val_loss: 0.0874\n",
            "Epoch 98/200\n",
            "10/10 [==============================] - 0s 4ms/step - loss: 0.0787 - val_loss: 0.0873\n",
            "Epoch 99/200\n",
            "10/10 [==============================] - 0s 4ms/step - loss: 0.0786 - val_loss: 0.0872\n",
            "Epoch 100/200\n",
            "10/10 [==============================] - 0s 4ms/step - loss: 0.0785 - val_loss: 0.0871\n",
            "Epoch 101/200\n",
            "10/10 [==============================] - 0s 4ms/step - loss: 0.0785 - val_loss: 0.0871\n",
            "Epoch 102/200\n",
            "10/10 [==============================] - 0s 4ms/step - loss: 0.0784 - val_loss: 0.0870\n",
            "Epoch 103/200\n",
            "10/10 [==============================] - 0s 4ms/step - loss: 0.0783 - val_loss: 0.0870\n",
            "Epoch 104/200\n",
            "10/10 [==============================] - 0s 5ms/step - loss: 0.0783 - val_loss: 0.0869\n",
            "Epoch 105/200\n",
            "10/10 [==============================] - 0s 4ms/step - loss: 0.0782 - val_loss: 0.0868\n",
            "Epoch 106/200\n",
            "10/10 [==============================] - 0s 4ms/step - loss: 0.0781 - val_loss: 0.0868\n",
            "Epoch 107/200\n",
            "10/10 [==============================] - 0s 5ms/step - loss: 0.0780 - val_loss: 0.0867\n",
            "Epoch 108/200\n",
            "10/10 [==============================] - 0s 4ms/step - loss: 0.0780 - val_loss: 0.0866\n",
            "Epoch 109/200\n",
            "10/10 [==============================] - 0s 4ms/step - loss: 0.0779 - val_loss: 0.0865\n",
            "Epoch 110/200\n",
            "10/10 [==============================] - 0s 4ms/step - loss: 0.0778 - val_loss: 0.0865\n",
            "Epoch 111/200\n",
            "10/10 [==============================] - 0s 4ms/step - loss: 0.0778 - val_loss: 0.0864\n",
            "Epoch 112/200\n",
            "10/10 [==============================] - 0s 4ms/step - loss: 0.0777 - val_loss: 0.0864\n",
            "Epoch 113/200\n",
            "10/10 [==============================] - 0s 4ms/step - loss: 0.0776 - val_loss: 0.0862\n",
            "Epoch 114/200\n",
            "10/10 [==============================] - 0s 4ms/step - loss: 0.0775 - val_loss: 0.0861\n",
            "Epoch 115/200\n",
            "10/10 [==============================] - 0s 5ms/step - loss: 0.0775 - val_loss: 0.0860\n",
            "Epoch 116/200\n",
            "10/10 [==============================] - 0s 5ms/step - loss: 0.0774 - val_loss: 0.0860\n",
            "Epoch 117/200\n",
            "10/10 [==============================] - 0s 4ms/step - loss: 0.0773 - val_loss: 0.0859\n",
            "Epoch 118/200\n",
            "10/10 [==============================] - 0s 4ms/step - loss: 0.0772 - val_loss: 0.0857\n",
            "Epoch 119/200\n",
            "10/10 [==============================] - 0s 4ms/step - loss: 0.0772 - val_loss: 0.0856\n",
            "Epoch 120/200\n",
            "10/10 [==============================] - 0s 4ms/step - loss: 0.0771 - val_loss: 0.0855\n",
            "Epoch 121/200\n",
            "10/10 [==============================] - 0s 4ms/step - loss: 0.0770 - val_loss: 0.0854\n",
            "Epoch 122/200\n",
            "10/10 [==============================] - 0s 4ms/step - loss: 0.0770 - val_loss: 0.0854\n",
            "Epoch 123/200\n",
            "10/10 [==============================] - 0s 4ms/step - loss: 0.0769 - val_loss: 0.0853\n",
            "Epoch 124/200\n",
            "10/10 [==============================] - 0s 4ms/step - loss: 0.0768 - val_loss: 0.0852\n",
            "Epoch 125/200\n",
            "10/10 [==============================] - 0s 4ms/step - loss: 0.0768 - val_loss: 0.0852\n",
            "Epoch 126/200\n",
            "10/10 [==============================] - 0s 7ms/step - loss: 0.0767 - val_loss: 0.0851\n",
            "Epoch 127/200\n",
            "10/10 [==============================] - 0s 4ms/step - loss: 0.0766 - val_loss: 0.0851\n",
            "Epoch 128/200\n",
            "10/10 [==============================] - 0s 4ms/step - loss: 0.0766 - val_loss: 0.0850\n",
            "Epoch 129/200\n",
            "10/10 [==============================] - 0s 4ms/step - loss: 0.0765 - val_loss: 0.0850\n",
            "Epoch 130/200\n",
            "10/10 [==============================] - 0s 4ms/step - loss: 0.0765 - val_loss: 0.0849\n",
            "Epoch 131/200\n",
            "10/10 [==============================] - 0s 4ms/step - loss: 0.0764 - val_loss: 0.0848\n",
            "Epoch 132/200\n",
            "10/10 [==============================] - 0s 4ms/step - loss: 0.0763 - val_loss: 0.0847\n",
            "Epoch 133/200\n",
            "10/10 [==============================] - 0s 4ms/step - loss: 0.0763 - val_loss: 0.0847\n",
            "Epoch 134/200\n",
            "10/10 [==============================] - 0s 4ms/step - loss: 0.0762 - val_loss: 0.0846\n",
            "Epoch 135/200\n",
            "10/10 [==============================] - 0s 6ms/step - loss: 0.0761 - val_loss: 0.0846\n",
            "Epoch 136/200\n",
            "10/10 [==============================] - 0s 4ms/step - loss: 0.0761 - val_loss: 0.0845\n",
            "Epoch 137/200\n",
            "10/10 [==============================] - 0s 4ms/step - loss: 0.0760 - val_loss: 0.0845\n",
            "Epoch 138/200\n",
            "10/10 [==============================] - 0s 4ms/step - loss: 0.0759 - val_loss: 0.0844\n",
            "Epoch 139/200\n",
            "10/10 [==============================] - 0s 5ms/step - loss: 0.0759 - val_loss: 0.0843\n",
            "Epoch 140/200\n",
            "10/10 [==============================] - 0s 4ms/step - loss: 0.0758 - val_loss: 0.0842\n",
            "Epoch 141/200\n",
            "10/10 [==============================] - 0s 4ms/step - loss: 0.0757 - val_loss: 0.0841\n",
            "Epoch 142/200\n",
            "10/10 [==============================] - 0s 4ms/step - loss: 0.0757 - val_loss: 0.0840\n",
            "Epoch 143/200\n",
            "10/10 [==============================] - 0s 4ms/step - loss: 0.0756 - val_loss: 0.0839\n",
            "Epoch 144/200\n",
            "10/10 [==============================] - 0s 4ms/step - loss: 0.0756 - val_loss: 0.0839\n",
            "Epoch 145/200\n",
            "10/10 [==============================] - 0s 4ms/step - loss: 0.0755 - val_loss: 0.0838\n",
            "Epoch 146/200\n",
            "10/10 [==============================] - 0s 4ms/step - loss: 0.0755 - val_loss: 0.0838\n",
            "Epoch 147/200\n",
            "10/10 [==============================] - 0s 4ms/step - loss: 0.0754 - val_loss: 0.0837\n",
            "Epoch 148/200\n",
            "10/10 [==============================] - 0s 4ms/step - loss: 0.0753 - val_loss: 0.0837\n",
            "Epoch 149/200\n",
            "10/10 [==============================] - 0s 4ms/step - loss: 0.0753 - val_loss: 0.0836\n",
            "Epoch 150/200\n",
            "10/10 [==============================] - 0s 4ms/step - loss: 0.0752 - val_loss: 0.0835\n",
            "Epoch 151/200\n",
            "10/10 [==============================] - 0s 4ms/step - loss: 0.0751 - val_loss: 0.0835\n",
            "Epoch 152/200\n",
            "10/10 [==============================] - 0s 4ms/step - loss: 0.0751 - val_loss: 0.0835\n",
            "Epoch 153/200\n",
            "10/10 [==============================] - 0s 4ms/step - loss: 0.0750 - val_loss: 0.0834\n",
            "Epoch 154/200\n",
            "10/10 [==============================] - 0s 4ms/step - loss: 0.0750 - val_loss: 0.0834\n",
            "Epoch 155/200\n",
            "10/10 [==============================] - 0s 4ms/step - loss: 0.0749 - val_loss: 0.0833\n",
            "Epoch 156/200\n",
            "10/10 [==============================] - 0s 6ms/step - loss: 0.0748 - val_loss: 0.0833\n",
            "Epoch 157/200\n",
            "10/10 [==============================] - 0s 4ms/step - loss: 0.0748 - val_loss: 0.0834\n",
            "Epoch 158/200\n",
            "10/10 [==============================] - 0s 4ms/step - loss: 0.0747 - val_loss: 0.0833\n",
            "Epoch 159/200\n",
            "10/10 [==============================] - 0s 4ms/step - loss: 0.0747 - val_loss: 0.0832\n",
            "Epoch 160/200\n",
            "10/10 [==============================] - 0s 4ms/step - loss: 0.0746 - val_loss: 0.0832\n",
            "Epoch 161/200\n",
            "10/10 [==============================] - 0s 5ms/step - loss: 0.0745 - val_loss: 0.0831\n",
            "Epoch 162/200\n",
            "10/10 [==============================] - 0s 4ms/step - loss: 0.0745 - val_loss: 0.0831\n",
            "Epoch 163/200\n",
            "10/10 [==============================] - 0s 5ms/step - loss: 0.0744 - val_loss: 0.0830\n",
            "Epoch 164/200\n",
            "10/10 [==============================] - 0s 5ms/step - loss: 0.0744 - val_loss: 0.0829\n",
            "Epoch 165/200\n",
            "10/10 [==============================] - 0s 5ms/step - loss: 0.0743 - val_loss: 0.0829\n",
            "Epoch 166/200\n",
            "10/10 [==============================] - 0s 6ms/step - loss: 0.0743 - val_loss: 0.0828\n",
            "Epoch 167/200\n",
            "10/10 [==============================] - 0s 6ms/step - loss: 0.0742 - val_loss: 0.0827\n",
            "Epoch 168/200\n",
            "10/10 [==============================] - 0s 4ms/step - loss: 0.0742 - val_loss: 0.0827\n",
            "Epoch 169/200\n",
            "10/10 [==============================] - 0s 4ms/step - loss: 0.0741 - val_loss: 0.0826\n",
            "Epoch 170/200\n",
            "10/10 [==============================] - 0s 5ms/step - loss: 0.0741 - val_loss: 0.0827\n",
            "Epoch 171/200\n",
            "10/10 [==============================] - 0s 4ms/step - loss: 0.0740 - val_loss: 0.0826\n",
            "Epoch 172/200\n",
            "10/10 [==============================] - 0s 4ms/step - loss: 0.0739 - val_loss: 0.0824\n",
            "Epoch 173/200\n",
            "10/10 [==============================] - 0s 4ms/step - loss: 0.0739 - val_loss: 0.0824\n",
            "Epoch 174/200\n",
            "10/10 [==============================] - 0s 4ms/step - loss: 0.0738 - val_loss: 0.0823\n",
            "Epoch 175/200\n",
            "10/10 [==============================] - 0s 5ms/step - loss: 0.0738 - val_loss: 0.0823\n",
            "Epoch 176/200\n",
            "10/10 [==============================] - 0s 4ms/step - loss: 0.0737 - val_loss: 0.0822\n",
            "Epoch 177/200\n",
            "10/10 [==============================] - 0s 4ms/step - loss: 0.0737 - val_loss: 0.0821\n",
            "Epoch 178/200\n",
            "10/10 [==============================] - 0s 4ms/step - loss: 0.0736 - val_loss: 0.0820\n",
            "Epoch 179/200\n",
            "10/10 [==============================] - 0s 4ms/step - loss: 0.0736 - val_loss: 0.0820\n",
            "Epoch 180/200\n",
            "10/10 [==============================] - 0s 4ms/step - loss: 0.0735 - val_loss: 0.0820\n",
            "Epoch 181/200\n",
            "10/10 [==============================] - 0s 4ms/step - loss: 0.0735 - val_loss: 0.0819\n",
            "Epoch 182/200\n",
            "10/10 [==============================] - 0s 4ms/step - loss: 0.0734 - val_loss: 0.0819\n",
            "Epoch 183/200\n",
            "10/10 [==============================] - 0s 4ms/step - loss: 0.0734 - val_loss: 0.0818\n",
            "Epoch 184/200\n",
            "10/10 [==============================] - 0s 5ms/step - loss: 0.0733 - val_loss: 0.0818\n",
            "Epoch 185/200\n",
            "10/10 [==============================] - 0s 4ms/step - loss: 0.0733 - val_loss: 0.0817\n",
            "Epoch 186/200\n",
            "10/10 [==============================] - 0s 4ms/step - loss: 0.0732 - val_loss: 0.0818\n",
            "Epoch 187/200\n",
            "10/10 [==============================] - 0s 4ms/step - loss: 0.0732 - val_loss: 0.0817\n",
            "Epoch 188/200\n",
            "10/10 [==============================] - 0s 4ms/step - loss: 0.0731 - val_loss: 0.0817\n",
            "Epoch 189/200\n",
            "10/10 [==============================] - 0s 4ms/step - loss: 0.0731 - val_loss: 0.0816\n",
            "Epoch 190/200\n",
            "10/10 [==============================] - 0s 4ms/step - loss: 0.0730 - val_loss: 0.0816\n",
            "Epoch 191/200\n",
            "10/10 [==============================] - 0s 4ms/step - loss: 0.0730 - val_loss: 0.0815\n",
            "Epoch 192/200\n",
            "10/10 [==============================] - 0s 4ms/step - loss: 0.0729 - val_loss: 0.0814\n",
            "Epoch 193/200\n",
            "10/10 [==============================] - 0s 4ms/step - loss: 0.0729 - val_loss: 0.0815\n",
            "Epoch 194/200\n",
            "10/10 [==============================] - 0s 5ms/step - loss: 0.0727 - val_loss: 0.0814\n",
            "Epoch 195/200\n",
            "10/10 [==============================] - 0s 6ms/step - loss: 0.0727 - val_loss: 0.0814\n",
            "Epoch 196/200\n",
            "10/10 [==============================] - 0s 4ms/step - loss: 0.0727 - val_loss: 0.0813\n",
            "Epoch 197/200\n",
            "10/10 [==============================] - 0s 4ms/step - loss: 0.0726 - val_loss: 0.0812\n",
            "Epoch 198/200\n",
            "10/10 [==============================] - 0s 4ms/step - loss: 0.0726 - val_loss: 0.0812\n",
            "Epoch 199/200\n",
            "10/10 [==============================] - 0s 4ms/step - loss: 0.0725 - val_loss: 0.0811\n",
            "Epoch 200/200\n",
            "10/10 [==============================] - 0s 4ms/step - loss: 0.0725 - val_loss: 0.0810\n",
            "3/3 [==============================] - 0s 4ms/step - loss: 0.1476\n",
            "learning curves\n"
          ]
        },
        {
          "output_type": "display_data",
          "data": {
            "text/plain": [
              "<Figure size 432x288 with 1 Axes>"
            ],
            "image/png": "[encoded data removed]"
          },
          "metadata": {
            "needs_background": "light"
          }
        }
      ]
    },
    {
      "cell_type": "code",
      "source": [
        "import os\n",
        "model_version = \"0001\"\n",
        "model_name = \"my_sanbul_model\"\n",
        "model_path = os.path.join(model_name, model_version)\n",
        "print(\"\\nmodel_path: \\n\", model_path)\n",
        "\n",
        "tf.saved_model.save(model, model_path)\n",
        "\n",
        "for root, dirs, files in os.walk(model_name):\n",
        "    indent = ' ' * root.count(os.sep)\n",
        "    print('{}{}/'.format(indent, os.path.basename(root)))\n",
        "for filename in files:\n",
        "    print('{}{}'.format(indent + ' ', filename))\n"
      ],
      "metadata": {
        "id": "NAPMoibQX5nx",
        "colab": {
          "base_uri": "https://localhost:8080/"
        },
        "outputId": "5f01d08f-5e55-4b63-f600-fbf7861992c2"
      },
      "execution_count": 46,
      "outputs": [
        {
          "output_type": "stream",
          "name": "stdout",
          "text": [
            "\n",
            "model_path: \n",
            " my_sanbul_model/0001\n",
            "INFO:tensorflow:Assets written to: my_sanbul_model/0001/assets\n",
            "my_sanbul_model/\n",
            " 0001/\n",
            "  assets/\n",
            "  variables/\n",
            "   variables.index\n",
            "   variables.data-00000-of-00001\n"
          ]
        }
      ]
    }
  ]
}